{
 "cells": [
  {
   "cell_type": "code",
   "execution_count": 2,
   "id": "e2983705",
   "metadata": {},
   "outputs": [
    {
     "name": "stdout",
     "output_type": "stream",
     "text": [
      "Automatically created module for IPython interactive environment\n"
     ]
    }
   ],
   "source": [
    "print(__doc__)"
   ]
  },
  {
   "cell_type": "code",
   "execution_count": 33,
   "id": "6a14b444",
   "metadata": {},
   "outputs": [],
   "source": [
    "import numpy as np # linear algebra\n",
    "import pandas as pd # data processing, CSV file I/O (e.g. pd.read_csv)\n",
    "import matplotlib.pyplot as plt #plotting\n",
    "import seaborn as sns #good visualizing\n",
    "import os\n",
    "import warnings\n",
    "from sklearn.model_selection import train_test_split\n",
    "from sklearn.model_selection import cross_val_score\n",
    "from sklearn.metrics import confusion_matrix\n",
    "from sklearn.model_selection import GridSearchCV\n",
    "from sklearn.model_selection import learning_curve\n",
    "from sklearn.model_selection import validation_curve\n",
    "from sklearn.model_selection import ShuffleSplit\n",
    "from IPython.display import Image\n",
    "import matplotlib.pyplot as plt\n",
    "from sklearn.model_selection import train_test_split\n",
    "from sklearn.tree import DecisionTreeClassifier\n",
    "from sklearn import tree\n",
    "import pandas as pd"
   ]
  },
  {
   "cell_type": "code",
   "execution_count": 93,
   "id": "4a14b685",
   "metadata": {},
   "outputs": [
    {
     "data": {
      "text/html": [
       "<div>\n",
       "<style scoped>\n",
       "    .dataframe tbody tr th:only-of-type {\n",
       "        vertical-align: middle;\n",
       "    }\n",
       "\n",
       "    .dataframe tbody tr th {\n",
       "        vertical-align: top;\n",
       "    }\n",
       "\n",
       "    .dataframe thead th {\n",
       "        text-align: right;\n",
       "    }\n",
       "</style>\n",
       "<table border=\"1\" class=\"dataframe\">\n",
       "  <thead>\n",
       "    <tr style=\"text-align: right;\">\n",
       "      <th></th>\n",
       "      <th>fixed acidity</th>\n",
       "      <th>volatile acidity</th>\n",
       "      <th>citric acid</th>\n",
       "      <th>residual sugar</th>\n",
       "      <th>chlorides</th>\n",
       "      <th>free sulfur dioxide</th>\n",
       "      <th>total sulfur dioxide</th>\n",
       "      <th>density</th>\n",
       "      <th>pH</th>\n",
       "      <th>sulphates</th>\n",
       "      <th>alcohol</th>\n",
       "      <th>quality</th>\n",
       "    </tr>\n",
       "  </thead>\n",
       "  <tbody>\n",
       "    <tr>\n",
       "      <th>0</th>\n",
       "      <td>7.4</td>\n",
       "      <td>0.70</td>\n",
       "      <td>0.00</td>\n",
       "      <td>1.9</td>\n",
       "      <td>0.076</td>\n",
       "      <td>11.0</td>\n",
       "      <td>34.0</td>\n",
       "      <td>0.9978</td>\n",
       "      <td>3.51</td>\n",
       "      <td>0.56</td>\n",
       "      <td>9.4</td>\n",
       "      <td>5</td>\n",
       "    </tr>\n",
       "    <tr>\n",
       "      <th>1</th>\n",
       "      <td>7.8</td>\n",
       "      <td>0.88</td>\n",
       "      <td>0.00</td>\n",
       "      <td>2.6</td>\n",
       "      <td>0.098</td>\n",
       "      <td>25.0</td>\n",
       "      <td>67.0</td>\n",
       "      <td>0.9968</td>\n",
       "      <td>3.20</td>\n",
       "      <td>0.68</td>\n",
       "      <td>9.8</td>\n",
       "      <td>5</td>\n",
       "    </tr>\n",
       "    <tr>\n",
       "      <th>2</th>\n",
       "      <td>7.8</td>\n",
       "      <td>0.76</td>\n",
       "      <td>0.04</td>\n",
       "      <td>2.3</td>\n",
       "      <td>0.092</td>\n",
       "      <td>15.0</td>\n",
       "      <td>54.0</td>\n",
       "      <td>0.9970</td>\n",
       "      <td>3.26</td>\n",
       "      <td>0.65</td>\n",
       "      <td>9.8</td>\n",
       "      <td>5</td>\n",
       "    </tr>\n",
       "    <tr>\n",
       "      <th>3</th>\n",
       "      <td>11.2</td>\n",
       "      <td>0.28</td>\n",
       "      <td>0.56</td>\n",
       "      <td>1.9</td>\n",
       "      <td>0.075</td>\n",
       "      <td>17.0</td>\n",
       "      <td>60.0</td>\n",
       "      <td>0.9980</td>\n",
       "      <td>3.16</td>\n",
       "      <td>0.58</td>\n",
       "      <td>9.8</td>\n",
       "      <td>6</td>\n",
       "    </tr>\n",
       "    <tr>\n",
       "      <th>4</th>\n",
       "      <td>7.4</td>\n",
       "      <td>0.70</td>\n",
       "      <td>0.00</td>\n",
       "      <td>1.9</td>\n",
       "      <td>0.076</td>\n",
       "      <td>11.0</td>\n",
       "      <td>34.0</td>\n",
       "      <td>0.9978</td>\n",
       "      <td>3.51</td>\n",
       "      <td>0.56</td>\n",
       "      <td>9.4</td>\n",
       "      <td>5</td>\n",
       "    </tr>\n",
       "  </tbody>\n",
       "</table>\n",
       "</div>"
      ],
      "text/plain": [
       "   fixed acidity  volatile acidity  citric acid  residual sugar  chlorides  \\\n",
       "0            7.4              0.70         0.00             1.9      0.076   \n",
       "1            7.8              0.88         0.00             2.6      0.098   \n",
       "2            7.8              0.76         0.04             2.3      0.092   \n",
       "3           11.2              0.28         0.56             1.9      0.075   \n",
       "4            7.4              0.70         0.00             1.9      0.076   \n",
       "\n",
       "   free sulfur dioxide  total sulfur dioxide  density    pH  sulphates  \\\n",
       "0                 11.0                  34.0   0.9978  3.51       0.56   \n",
       "1                 25.0                  67.0   0.9968  3.20       0.68   \n",
       "2                 15.0                  54.0   0.9970  3.26       0.65   \n",
       "3                 17.0                  60.0   0.9980  3.16       0.58   \n",
       "4                 11.0                  34.0   0.9978  3.51       0.56   \n",
       "\n",
       "   alcohol  quality  \n",
       "0      9.4        5  \n",
       "1      9.8        5  \n",
       "2      9.8        5  \n",
       "3      9.8        6  \n",
       "4      9.4        5  "
      ]
     },
     "execution_count": 93,
     "metadata": {},
     "output_type": "execute_result"
    }
   ],
   "source": [
    "wine = pd.read_csv(\"winequality-red.csv\",sep=\";\")\n",
    "wine.head()"
   ]
  },
  {
   "cell_type": "markdown",
   "id": "2b4f9d8b",
   "metadata": {},
   "source": [
    "## Data Preparation"
   ]
  },
  {
   "cell_type": "code",
   "execution_count": 9,
   "id": "006c3b1a",
   "metadata": {},
   "outputs": [
    {
     "name": "stdout",
     "output_type": "stream",
     "text": [
      "<class 'pandas.core.frame.DataFrame'>\n",
      "RangeIndex: 1599 entries, 0 to 1598\n",
      "Data columns (total 12 columns):\n",
      " #   Column                Non-Null Count  Dtype  \n",
      "---  ------                --------------  -----  \n",
      " 0   fixed_acidity         1599 non-null   float64\n",
      " 1   volatile_acidity      1599 non-null   float64\n",
      " 2   citric_acid           1599 non-null   float64\n",
      " 3   residual_sugar        1599 non-null   float64\n",
      " 4   chlorides             1599 non-null   float64\n",
      " 5   free_sulfur_dioxide   1599 non-null   float64\n",
      " 6   total_sulfur_dioxide  1599 non-null   float64\n",
      " 7   density               1599 non-null   float64\n",
      " 8   pH                    1599 non-null   float64\n",
      " 9   sulphates             1599 non-null   float64\n",
      " 10  alcohol               1599 non-null   float64\n",
      " 11  quality               1599 non-null   int64  \n",
      "dtypes: float64(11), int64(1)\n",
      "memory usage: 150.0 KB\n"
     ]
    }
   ],
   "source": [
    "data = wine\n",
    "data.columns = data.columns.str.replace(' ','_')\n",
    "data.info()"
   ]
  },
  {
   "cell_type": "code",
   "execution_count": 10,
   "id": "9e8bd844",
   "metadata": {},
   "outputs": [],
   "source": [
    "def normalization(X):\n",
    "    mean = np.mean(X)\n",
    "    std = np.std(X)\n",
    "    X_t = (X - mean)/std\n",
    "    return X_t"
   ]
  },
  {
   "cell_type": "code",
   "execution_count": 11,
   "id": "9d776b3b",
   "metadata": {},
   "outputs": [],
   "source": [
    "#Train and Test splitting of data     \n",
    "def train_test(X_t, y):\n",
    "    x_train, x_test, y_train, y_test = train_test_split(X_t, y, test_size = 0.3, random_state = 42)\n",
    "    print(\"Train:\",len(x_train), \" - Test:\", len(x_test))\n",
    "    return x_train, x_test, y_train, y_test"
   ]
  },
  {
   "cell_type": "code",
   "execution_count": 12,
   "id": "69ef9582",
   "metadata": {},
   "outputs": [
    {
     "name": "stderr",
     "output_type": "stream",
     "text": [
      "C:\\Users\\12619\\anaconda3\\lib\\site-packages\\seaborn\\_decorators.py:36: FutureWarning: Pass the following variables as keyword args: x, y. From version 0.12, the only valid positional argument will be `data`, and passing other arguments without an explicit keyword will result in an error or misinterpretation.\n",
      "  warnings.warn(\n"
     ]
    },
    {
     "data": {
      "image/png": "[encoded data removed]",
      "text/plain": [
       "<Figure size 432x288 with 1 Axes>"
      ]
     },
     "metadata": {
      "needs_background": "light"
     },
     "output_type": "display_data"
    }
   ],
   "source": [
    "#How many wine quality number is realted with how many unique wines\n",
    "#print(data['quality'].value_counts())\n",
    "sns.barplot(data['quality'].unique(),data['quality'].value_counts())\n",
    "plt.xlabel(\"Quality Rankings\")\n",
    "plt.ylabel(\"Number of Red Wine\")\n",
    "plt.title(\"Distribution of Red Wine Quality Ratings\")\n",
    "plt.show()"
   ]
  },
  {
   "cell_type": "code",
   "execution_count": 13,
   "id": "1f316de0",
   "metadata": {},
   "outputs": [],
   "source": [
    "#Now seperate the dataset as response variable and feature variabes\n",
    "X = data.drop(['quality'], axis = 1)\n",
    "#y = pd.DataFrame(data['value'])\n",
    "y = data['quality']"
   ]
  },
  {
   "cell_type": "code",
   "execution_count": 14,
   "id": "3eee8a07",
   "metadata": {},
   "outputs": [
    {
     "name": "stdout",
     "output_type": "stream",
     "text": [
      "X_t: (1599, 11)\n",
      "Train: 1119  - Test: 480\n"
     ]
    }
   ],
   "source": [
    "#Normalization\n",
    "X_t = normalization(X)\n",
    "print(\"X_t:\", X_t.shape)\n",
    "\n",
    "#Train and Test splitting of data \n",
    "x_train, x_test, y_train, y_test = train_test(X_t, y)"
   ]
  },
  {
   "cell_type": "markdown",
   "id": "cfd8a5f7",
   "metadata": {},
   "source": [
    "## Decision Trees"
   ]
  },
  {
   "cell_type": "code",
   "execution_count": 15,
   "id": "64d9d5cb",
   "metadata": {},
   "outputs": [
    {
     "name": "stdout",
     "output_type": "stream",
     "text": [
      "train time = 0.023511171340942383\n"
     ]
    }
   ],
   "source": [
    "#decision trees default model and time\n",
    "import time\n",
    "start = time.time()\n",
    "tree_model = DecisionTreeClassifier(random_state=1).fit(x_train,y_train)\n",
    "end = time.time()\n",
    "time_train = end-start\n",
    "print('train time =',time_train)"
   ]
  },
  {
   "cell_type": "code",
   "execution_count": 11,
   "id": "fcdd3ef6",
   "metadata": {},
   "outputs": [
    {
     "name": "stdout",
     "output_type": "stream",
     "text": [
      "test time = 0.013426065444946289\n"
     ]
    }
   ],
   "source": [
    "start = time.time()\n",
    "tree_pred = tree_model.predict(x_test)\n",
    "end = time.time()\n",
    "time_test = end-start\n",
    "print('test time =',time_test)"
   ]
  },
  {
   "cell_type": "code",
   "execution_count": 12,
   "id": "21618ebc",
   "metadata": {},
   "outputs": [
    {
     "name": "stdout",
     "output_type": "stream",
     "text": [
      "training score =  1.0 test score =  0.5583333333333333\n"
     ]
    }
   ],
   "source": [
    "score_train=tree_model.score(x_train,y_train)\n",
    "score_test=tree_model.score(x_test,y_test)\n",
    "print('training score = ',score_train,'test score = ',score_test)"
   ]
  },
  {
   "cell_type": "code",
   "execution_count": 30,
   "id": "c020b835",
   "metadata": {},
   "outputs": [
    {
     "name": "stdout",
     "output_type": "stream",
     "text": [
      "Best Parameters for Decision Tree:  DecisionTreeClassifier(max_depth=4, min_samples_leaf=9)\n",
      "Best Score for Decision Tree:  0.6086202754644459\n",
      "------------------------------------------\n"
     ]
    }
   ],
   "source": [
    "# DecisionTree Classifier\n",
    "tree_params = {\"criterion\": [\"gini\", \"entropy\"], \"max_depth\": list(range(2,30,1)), \n",
    "            \"min_samples_leaf\": list(range(5,20,1))}\n",
    "grid_tree = GridSearchCV(DecisionTreeClassifier(), tree_params)\n",
    "grid_tree.fit(x_train, y_train)\n",
    "# tree best estimator\n",
    "tree_clf = grid_tree.best_estimator_\n",
    "print(\"Best Parameters for Decision Tree: \", grid_tree.best_estimator_)\n",
    "print(\"Best Score for Decision Tree: \", grid_tree.best_score_)\n",
    "print(\"------------------------------------------\")"
   ]
  },
  {
   "cell_type": "code",
   "execution_count": 31,
   "id": "e1d78de7",
   "metadata": {},
   "outputs": [
    {
     "name": "stdout",
     "output_type": "stream",
     "text": [
      "Mean Accuracy of Cross Validation: % 60.78\n",
      "Std of Accuracy of Cross Validation: % 4\n",
      "------------------------------------------\n"
     ]
    },
    {
     "name": "stderr",
     "output_type": "stream",
     "text": [
      "C:\\Users\\12619\\anaconda3\\lib\\site-packages\\sklearn\\model_selection\\_split.py:666: UserWarning: The least populated class in y has only 9 members, which is less than n_splits=10.\n",
      "  warnings.warn((\"The least populated class in y has only %d\"\n"
     ]
    }
   ],
   "source": [
    "#Apply cross validation to estimate the skills of models with 10 split with using best parameters\n",
    "scores = cross_val_score(tree_clf, x_train, y_train, cv=10)\n",
    "print(\"Mean Accuracy of Cross Validation: %\", round(scores.mean()*100,2))\n",
    "print(\"Std of Accuracy of Cross Validation: %\", round(scores.std()*100))\n",
    "print(\"------------------------------------------\")"
   ]
  },
  {
   "cell_type": "code",
   "execution_count": 42,
   "id": "ae0b9165",
   "metadata": {},
   "outputs": [
    {
     "name": "stdout",
     "output_type": "stream",
     "text": [
      "Accuracy of decision trees: 55.00000000000001\n",
      "Confusion matrix of decision trees:\n",
      " [[  0   0   1   0   0   0]\n",
      " [  0   0   9   8   0   0]\n",
      " [  0   0 128  65   2   0]\n",
      " [  0   0  66 123  11   0]\n",
      " [  0   0   2  46  13   0]\n",
      " [  0   0   0   4   2   0]]\n",
      "==========================================\n"
     ]
    }
   ],
   "source": [
    "#Predict the test data as selected classifier\n",
    "clf_prediction = tree_clf.predict(x_test)\n",
    "clf1_accuracy = sum(y_test == clf_prediction)/len(y_test)\n",
    "print(\"Accuracy of decision trees:\",clf1_accuracy*100)\n",
    "\n",
    "#print confusion matrix and accuracy score before best parameters\n",
    "clf1_conf_matrix = confusion_matrix(y_test, clf_prediction)\n",
    "print(\"Confusion matrix of decision trees:\\n\", clf1_conf_matrix)\n",
    "print(\"==========================================\")"
   ]
  },
  {
   "cell_type": "code",
   "execution_count": 44,
   "id": "945c13e3",
   "metadata": {},
   "outputs": [
    {
     "name": "stdout",
     "output_type": "stream",
     "text": [
      "After pruning, train time = 0.01095271110534668\n"
     ]
    }
   ],
   "source": [
    "start = time.time()\n",
    "tree_model_prune = DecisionTreeClassifier(random_state=1,\n",
    "                                   max_depth=4,\n",
    "                                   min_samples_leaf=9).fit(x_train,y_train)\n",
    "end = time.time()\n",
    "time_train = end-start\n",
    "print('After pruning, train time =',time_train)"
   ]
  },
  {
   "cell_type": "code",
   "execution_count": 45,
   "id": "c4368ebc",
   "metadata": {},
   "outputs": [
    {
     "name": "stdout",
     "output_type": "stream",
     "text": [
      "After pruning, test time = 0.01085662841796875\n"
     ]
    }
   ],
   "source": [
    "start = time.time()\n",
    "tree_pred = tree_model_prune.predict(x_test)\n",
    "end = time.time()\n",
    "time_test = end-start\n",
    "print('After pruning, test time =',time_test)"
   ]
  },
  {
   "cell_type": "code",
   "execution_count": 46,
   "id": "a5a0ad4e",
   "metadata": {},
   "outputs": [
    {
     "name": "stdout",
     "output_type": "stream",
     "text": [
      "training score =  0.6425379803395889 test score =  0.55\n"
     ]
    }
   ],
   "source": [
    "score_train=tree_model_prune.score(x_train,y_train)\n",
    "score_test=tree_model_prune.score(x_test,y_test)\n",
    "print('training score = ',score_train,'test score = ',score_test)"
   ]
  },
  {
   "cell_type": "code",
   "execution_count": 4,
   "id": "b8f4169b",
   "metadata": {},
   "outputs": [],
   "source": [
    "#Plotting the learning curve\n",
    "# score curves, each time with 30% data randomly selected as a validation set.\n",
    "cv = ShuffleSplit(n_splits=10, test_size=0.3, random_state=42)"
   ]
  },
  {
   "cell_type": "code",
   "execution_count": 22,
   "id": "4b2502d0",
   "metadata": {},
   "outputs": [
    {
     "data": {
      "image/png": "[encoded data removed]",
      "text/plain": [
       "<Figure size 504x360 with 1 Axes>"
      ]
     },
     "metadata": {
      "needs_background": "light"
     },
     "output_type": "display_data"
    }
   ],
   "source": [
    "# Vary the max_depth parameter from 1 to 10\n",
    "max_depth = np.arange(2,15,1)\n",
    "\n",
    "# Calculate the training and testing scores\n",
    "train_scores, test_scores = validation_curve(tree_model_prune, X, y, \\\n",
    "    param_name = \"max_depth\", param_range = max_depth, cv = cv)\n",
    "\n",
    "    # Find the mean and standard deviation for smoothing\n",
    "train_mean = np.mean(train_scores, axis=1)\n",
    "train_std = np.std(train_scores, axis=1)\n",
    "test_mean = np.mean(test_scores, axis=1)\n",
    "test_std = np.std(test_scores, axis=1)\n",
    "\n",
    "    # Plot the validation curve\n",
    "plt.figure(figsize=(7, 5))\n",
    "plt.title('Validation Curve with Decision trees')\n",
    "plt.plot(max_depth, train_mean, 'o-', color = 'r', label = 'Training Score')\n",
    "plt.plot(max_depth, test_mean, 'o-', color = 'g', label = 'Validation Score')\n",
    "plt.fill_between(max_depth, train_mean - train_std, \\\n",
    "    train_mean + train_std, alpha = 0.15, color = 'r')\n",
    "plt.fill_between(max_depth, test_mean - test_std, \\\n",
    "    test_mean + test_std, alpha = 0.15, color = 'g')\n",
    "    \n",
    " # Visual aesthetics\n",
    "plt.legend(loc = 'best')\n",
    "plt.xlabel('Maximum Depth')\n",
    "plt.ylabel('Score')\n",
    "plt.ylim([0.4,0.9])\n",
    "plt.show()"
   ]
  },
  {
   "cell_type": "code",
   "execution_count": 172,
   "id": "a14e7bda",
   "metadata": {},
   "outputs": [
    {
     "data": {
      "image/png": "[encoded data removed]",
      "text/plain": [
       "<Figure size 504x360 with 1 Axes>"
      ]
     },
     "metadata": {
      "needs_background": "light"
     },
     "output_type": "display_data"
    }
   ],
   "source": [
    "min_samples_leaf = np.arange(5,20,1)\n",
    "\n",
    "# Calculate the training and testing scores\n",
    "train_scores, test_scores = validation_curve(tree_model_prune, X, y, \\\n",
    "    param_name = \"min_samples_leaf\", param_range = min_samples_leaf, cv = cv)\n",
    "\n",
    "# Find the mean and standard deviation for smoothing\n",
    "train_mean = np.mean(train_scores, axis=1)\n",
    "train_std = np.std(train_scores, axis=1)\n",
    "test_mean = np.mean(test_scores, axis=1)\n",
    "test_std = np.std(test_scores, axis=1)\n",
    "\n",
    "# Plot the validation curve\n",
    "plt.figure(figsize=(7, 5))\n",
    "plt.title('Validation Curve with Decision trees')\n",
    "plt.plot(min_samples_leaf, train_mean, 'o-', color = 'r', label = 'Training Score')\n",
    "plt.plot(min_samples_leaf, test_mean, 'o-', color = 'g', label = 'Validation Score')\n",
    "plt.fill_between(min_samples_leaf, train_mean - train_std, \\\n",
    "    train_mean + train_std, alpha = 0.15, color = 'r')\n",
    "plt.fill_between(min_samples_leaf, test_mean - test_std, \\\n",
    "    test_mean + test_std, alpha = 0.15, color = 'g')\n",
    "    \n",
    "# Visual aesthetics\n",
    "plt.legend(loc = 'best')\n",
    "plt.xlabel('Minimum samples in one leaf')\n",
    "plt.ylabel('Score')\n",
    "plt.ylim([-0.05,1.05])\n",
    "plt.show()"
   ]
  },
  {
   "cell_type": "code",
   "execution_count": 21,
   "id": "dc02e84e",
   "metadata": {},
   "outputs": [
    {
     "data": {
      "text/plain": [
       "Text(0.5, 1.0, 'Scalability of the model')"
      ]
     },
     "execution_count": 21,
     "metadata": {},
     "output_type": "execute_result"
    },
    {
     "data": {
      "image/png": "[encoded data removed]",
      "text/plain": [
       "<Figure size 432x288 with 1 Axes>"
      ]
     },
     "metadata": {
      "needs_background": "light"
     },
     "output_type": "display_data"
    }
   ],
   "source": [
    "train_sizes, train_scores, test_scores, fit_times, _ = \\\n",
    "        learning_curve(tree_model_prune, X_t, y, cv=cv, \n",
    "                                        n_jobs=4, train_sizes=np.linspace(.1, 1.0, 5),return_times=True)\n",
    "\n",
    "fit_times_mean = np.mean(fit_times,axis = 1)\n",
    "fit_times_std = np.std(fit_times,axis = 1)\n",
    "train_scores_mean = np.mean(train_scores, axis=1)\n",
    "train_scores_std = np.std(train_scores, axis=1)\n",
    "test_scores_mean = np.mean(test_scores, axis=1)\n",
    "test_scores_std = np.std(test_scores, axis=1)\n",
    "\n",
    "plt.grid()\n",
    "plt.plot(train_sizes, fit_times_mean, 'o-')\n",
    "plt.fill_between(train_sizes, fit_times_mean - fit_times_std,\n",
    "                         fit_times_mean + fit_times_std, alpha=0.1)\n",
    "plt.xlabel(\"Training examples\")\n",
    "plt.ylabel(\"Fit_times\")\n",
    "plt.title(\"Scalability of the model\")"
   ]
  },
  {
   "cell_type": "code",
   "execution_count": 26,
   "id": "0be3f0a3",
   "metadata": {},
   "outputs": [
    {
     "data": {
      "text/plain": [
       "Text(0.5, 1.0, 'Learning curve of Decision trees')"
      ]
     },
     "execution_count": 26,
     "metadata": {},
     "output_type": "execute_result"
    },
    {
     "data": {
      "image/png": "[encoded data removed]",
      "text/plain": [
       "<Figure size 432x288 with 1 Axes>"
      ]
     },
     "metadata": {
      "needs_background": "light"
     },
     "output_type": "display_data"
    }
   ],
   "source": [
    "plt.grid()\n",
    "\n",
    "plt.fill_between(train_sizes, train_scores_mean - train_scores_std,\n",
    "                     train_scores_mean + train_scores_std, alpha=0.1,\n",
    "                     color=\"r\")\n",
    "plt.fill_between(train_sizes, test_scores_mean - test_scores_std,\n",
    "                     test_scores_mean + test_scores_std, alpha=0.1, color=\"g\")\n",
    "plt.plot(train_sizes, train_scores_mean, 'o-', color=\"r\",\n",
    "             label=\"Training score\")\n",
    "plt.plot(train_sizes, test_scores_mean, 'o-', color=\"g\",\n",
    "             label=\"Cross-validation score\")\n",
    "plt.legend(loc=\"best\")\n",
    "plt.xlabel(\"Training examples\")\n",
    "plt.ylabel(\"Score\")\n",
    "plt.title(\"Learning curve of Decision trees\")"
   ]
  },
  {
   "cell_type": "markdown",
   "id": "b119672a",
   "metadata": {},
   "source": [
    "## Adaboost Classifier"
   ]
  },
  {
   "cell_type": "code",
   "execution_count": 47,
   "id": "a368f75f",
   "metadata": {},
   "outputs": [
    {
     "name": "stdout",
     "output_type": "stream",
     "text": [
      "train time = 0.2586781978607178\n"
     ]
    }
   ],
   "source": [
    "from sklearn.ensemble import AdaBoostClassifier\n",
    "start = time.time()\n",
    "ada_boost = AdaBoostClassifier(tree_model_prune,random_state=1)\n",
    "ada_boost.fit(x_train, y_train)\n",
    "end = time.time()\n",
    "time_train = end-start\n",
    "print('train time =',time_train)"
   ]
  },
  {
   "cell_type": "code",
   "execution_count": 27,
   "id": "68f87496",
   "metadata": {},
   "outputs": [
    {
     "name": "stdout",
     "output_type": "stream",
     "text": [
      "test time = 0.015480279922485352\n"
     ]
    }
   ],
   "source": [
    "start = time.time()\n",
    "ada_pred = ada_boost.predict(x_test)\n",
    "end = time.time()\n",
    "time_test = end-start\n",
    "print('test time =',time_test)"
   ]
  },
  {
   "cell_type": "code",
   "execution_count": 28,
   "id": "900e3894",
   "metadata": {},
   "outputs": [
    {
     "name": "stdout",
     "output_type": "stream",
     "text": [
      "training score =  0.7006255585344057 test score =  0.5020833333333333\n"
     ]
    }
   ],
   "source": [
    "score_train = ada_boost.score(x_train,y_train)\n",
    "score_test = ada_boost.score(x_test,y_test)\n",
    "print('training score = ',score_train,'test score = ',score_test)"
   ]
  },
  {
   "cell_type": "code",
   "execution_count": 37,
   "id": "dd90da25",
   "metadata": {},
   "outputs": [
    {
     "data": {
      "text/plain": [
       "GridSearchCV(cv=ShuffleSplit(n_splits=10, random_state=42, test_size=0.3, train_size=None),\n",
       "             estimator=AdaBoostClassifier(base_estimator=DecisionTreeClassifier(max_depth=4,\n",
       "                                                                                min_samples_leaf=9,\n",
       "                                                                                random_state=1),\n",
       "                                          random_state=1),\n",
       "             param_grid={'learning_rate': [1, 0.1, 0.01, 0.001],\n",
       "                         'n_estimators': range(50, 500, 50)})"
      ]
     },
     "execution_count": 37,
     "metadata": {},
     "output_type": "execute_result"
    }
   ],
   "source": [
    "ada_params = {'n_estimators':range(50,500,50),\"learning_rate\": [1,0.1,0.01,0.001]}\n",
    "\n",
    "grid_ada = GridSearchCV(ada_boost,ada_params,cv=cv) \n",
    "grid_ada.fit(x_train,y_train) "
   ]
  },
  {
   "cell_type": "code",
   "execution_count": 38,
   "id": "7b8dda0d",
   "metadata": {},
   "outputs": [
    {
     "name": "stdout",
     "output_type": "stream",
     "text": [
      "Best Parameters for AdaBoost Classifier:  AdaBoostClassifier(base_estimator=DecisionTreeClassifier(max_depth=4,\n",
      "                                                         min_samples_leaf=9,\n",
      "                                                         random_state=1),\n",
      "                   learning_rate=0.001, n_estimators=450, random_state=1)\n",
      "Best Score for AdaBoost Classifier:  0.605952380952381\n",
      "------------------------------------------\n"
     ]
    }
   ],
   "source": [
    "# adaboost best estimator\n",
    "ada_clf = grid_ada.best_estimator_\n",
    "print(\"Best Parameters for AdaBoost Classifier: \", grid_ada.best_estimator_)\n",
    "print(\"Best Score for AdaBoost Classifier: \", grid_ada.best_score_)\n",
    "print(\"------------------------------------------\")"
   ]
  },
  {
   "cell_type": "code",
   "execution_count": 39,
   "id": "1a38971d",
   "metadata": {},
   "outputs": [
    {
     "name": "stderr",
     "output_type": "stream",
     "text": [
      "C:\\Users\\12619\\anaconda3\\lib\\site-packages\\sklearn\\model_selection\\_split.py:666: UserWarning: The least populated class in y has only 9 members, which is less than n_splits=10.\n",
      "  warnings.warn((\"The least populated class in y has only %d\"\n"
     ]
    },
    {
     "name": "stdout",
     "output_type": "stream",
     "text": [
      "Mean Accuracy of Cross Validation: % 61.67\n",
      "Std of Accuracy of Cross Validation: % 5\n",
      "------------------------------------------\n"
     ]
    }
   ],
   "source": [
    "scores = cross_val_score(ada_clf, x_train, y_train, cv=10)\n",
    "print(\"Mean Accuracy of Cross Validation: %\", round(scores.mean()*100,2))\n",
    "print(\"Std of Accuracy of Cross Validation: %\", round(scores.std()*100))\n",
    "print(\"------------------------------------------\")"
   ]
  },
  {
   "cell_type": "code",
   "execution_count": 40,
   "id": "eb76db63",
   "metadata": {},
   "outputs": [
    {
     "name": "stdout",
     "output_type": "stream",
     "text": [
      "Accuracy of Adaboost: 57.70833333333333\n",
      "Confusion matrix of Adaboost:\n",
      " [[  0   0   0   1   0   0]\n",
      " [  0   0   9   8   0   0]\n",
      " [  0   0 133  62   0   0]\n",
      " [  0   0  63 132   5   0]\n",
      " [  0   0   0  49  12   0]\n",
      " [  0   0   0   5   1   0]]\n",
      "==========================================\n"
     ]
    }
   ],
   "source": [
    "#Predict the test data as selected classifier\n",
    "clf_prediction = ada_clf.predict(x_test)\n",
    "clf1_accuracy = sum(y_test == clf_prediction)/len(y_test)\n",
    "print(\"Accuracy of Adaboost:\",clf1_accuracy*100)\n",
    "\n",
    "#print confusion matrix and accuracy score before best parameters\n",
    "clf1_conf_matrix = confusion_matrix(y_test, clf_prediction)\n",
    "print(\"Confusion matrix of Adaboost:\\n\", clf1_conf_matrix)\n",
    "print(\"==========================================\")"
   ]
  },
  {
   "cell_type": "code",
   "execution_count": 48,
   "id": "1822c954",
   "metadata": {},
   "outputs": [
    {
     "name": "stdout",
     "output_type": "stream",
     "text": [
      "When n_estimators=400 and learning_rate=0.001, train time = 1.9641423225402832\n"
     ]
    }
   ],
   "source": [
    "start = time.time()\n",
    "ada_boost_grid = AdaBoostClassifier(tree_model_prune,random_state=1,n_estimators=400,learning_rate=0.001).fit(x_train,y_train)\n",
    "end = time.time()\n",
    "time_train = end-start\n",
    "print('When n_estimators=400 and learning_rate=0.001, train time =',time_train)"
   ]
  },
  {
   "cell_type": "code",
   "execution_count": 43,
   "id": "bbe4990e",
   "metadata": {},
   "outputs": [
    {
     "name": "stdout",
     "output_type": "stream",
     "text": [
      "When n_estimators=400 and learning_rate=0.001, test time = 0.08668065071105957\n"
     ]
    }
   ],
   "source": [
    "start = time.time()\n",
    "ada_boost_grid_pred = ada_boost_grid.predict(x_test)\n",
    "end = time.time()\n",
    "time_test = end-start\n",
    "print('When n_estimators=400 and learning_rate=0.001, test time =',time_test)"
   ]
  },
  {
   "cell_type": "code",
   "execution_count": 51,
   "id": "fc7a6af8",
   "metadata": {},
   "outputs": [
    {
     "name": "stdout",
     "output_type": "stream",
     "text": [
      "training score =  0.6818588025022342 test score =  0.575\n"
     ]
    }
   ],
   "source": [
    "score_train = ada_boost_grid.score(x_train,y_train)\n",
    "score_test = ada_boost_grid.score(x_test,y_test)\n",
    "print('training score = ',score_train,'test score = ',score_test)"
   ]
  },
  {
   "cell_type": "code",
   "execution_count": 49,
   "id": "279d26b5",
   "metadata": {},
   "outputs": [
    {
     "data": {
      "image/png": "[encoded data removed]",
      "text/plain": [
       "<Figure size 504x360 with 1 Axes>"
      ]
     },
     "metadata": {
      "needs_background": "light"
     },
     "output_type": "display_data"
    }
   ],
   "source": [
    "n_estimators = np.arange(300,500,10)\n",
    "\n",
    "# Calculate the training and testing scores\n",
    "train_scores, test_scores = validation_curve(ada_boost_grid, X, y, \\\n",
    "    param_name = \"n_estimators\", param_range = n_estimators, cv = cv)\n",
    "\n",
    "# Find the mean and standard deviation for smoothing\n",
    "train_mean = np.mean(train_scores, axis=1)\n",
    "train_std = np.std(train_scores, axis=1)\n",
    "test_mean = np.mean(test_scores, axis=1)\n",
    "test_std = np.std(test_scores, axis=1)\n",
    "\n",
    "# Plot the validation curve\n",
    "plt.figure(figsize=(7, 5))\n",
    "plt.title('Validation Curve with Adaboost')\n",
    "plt.plot(n_estimators, train_mean, 'o-', color = 'r', label = 'Training Score')\n",
    "plt.plot(n_estimators, test_mean, 'o-', color = 'g', label = 'Validation Score')\n",
    "plt.fill_between(n_estimators, train_mean - train_std, \\\n",
    "    train_mean + train_std, alpha = 0.15, color = 'r')\n",
    "plt.fill_between(n_estimators, test_mean - test_std, \\\n",
    "    test_mean + test_std, alpha = 0.15, color = 'g')\n",
    "    \n",
    "# Visual aesthetics\n",
    "plt.legend(loc = 'best')\n",
    "plt.xlabel('The number of estimators')\n",
    "plt.ylabel('Score')\n",
    "plt.ylim([0.4,0.8])\n",
    "plt.show()"
   ]
  },
  {
   "cell_type": "code",
   "execution_count": 92,
   "id": "33bddbfb",
   "metadata": {},
   "outputs": [
    {
     "data": {
      "image/png": "[encoded data removed]",
      "text/plain": [
       "<Figure size 504x360 with 1 Axes>"
      ]
     },
     "metadata": {
      "needs_background": "light"
     },
     "output_type": "display_data"
    }
   ],
   "source": [
    "learning_rate = [1,0.5,0.1,0.05,0.02,0.01]\n",
    "\n",
    "# Calculate the training and testing scores\n",
    "train_scores, test_scores = validation_curve(ada_boost_grid, X, y, \\\n",
    "    param_name = \"learning_rate\", param_range = learning_rate, cv = cv)\n",
    "\n",
    "    # Find the mean and standard deviation for smoothing\n",
    "train_mean = np.mean(train_scores, axis=1)\n",
    "train_std = np.std(train_scores, axis=1)\n",
    "test_mean = np.mean(test_scores, axis=1)\n",
    "test_std = np.std(test_scores, axis=1)\n",
    "\n",
    "    # Plot the validation curve\n",
    "plt.figure(figsize=(7, 5))\n",
    "plt.title('Validation Curve with Adaboost')\n",
    "plt.plot(learning_rate, train_mean, 'o-', color = 'r', label = 'Training Score')\n",
    "plt.plot(learning_rate, test_mean, 'o-', color = 'g', label = 'Validation Score')\n",
    "plt.fill_between(learning_rate, train_mean - train_std, \\\n",
    "    train_mean + train_std, alpha = 0.15, color = 'r')\n",
    "plt.fill_between(learning_rate, test_mean - test_std, \\\n",
    "    test_mean + test_std, alpha = 0.15, color = 'g')\n",
    "    \n",
    " # Visual aesthetics\n",
    "plt.legend(loc = 'best')\n",
    "plt.xlabel('Learning rate')\n",
    "plt.ylabel('Score')\n",
    "plt.ylim([0.4,1.05])\n",
    "plt.show()"
   ]
  },
  {
   "cell_type": "code",
   "execution_count": 49,
   "id": "022e0f80",
   "metadata": {},
   "outputs": [
    {
     "data": {
      "text/plain": [
       "Text(0.5, 1.0, 'Scalability of the Adaboost model')"
      ]
     },
     "execution_count": 49,
     "metadata": {},
     "output_type": "execute_result"
    },
    {
     "data": {
      "image/png": "[encoded data removed]",
      "text/plain": [
       "<Figure size 432x288 with 1 Axes>"
      ]
     },
     "metadata": {
      "needs_background": "light"
     },
     "output_type": "display_data"
    }
   ],
   "source": [
    "train_sizes, train_scores, test_scores, fit_times, _ = \\\n",
    "        learning_curve(ada_boost_grid, X_t, y, cv=cv, \n",
    "                                        n_jobs=4, train_sizes=np.linspace(.1, 1.0, 5),return_times=True)\n",
    "\n",
    "fit_times_mean = np.mean(fit_times,axis = 1)\n",
    "fit_times_std = np.std(fit_times,axis = 1)\n",
    "train_scores_mean = np.mean(train_scores, axis=1)\n",
    "train_scores_std = np.std(train_scores, axis=1)\n",
    "test_scores_mean = np.mean(test_scores, axis=1)\n",
    "test_scores_std = np.std(test_scores, axis=1)\n",
    "\n",
    "plt.grid()\n",
    "plt.plot(train_sizes, fit_times_mean, 'o-')\n",
    "plt.fill_between(train_sizes, fit_times_mean - fit_times_std,\n",
    "                         fit_times_mean + fit_times_std, alpha=0.1)\n",
    "plt.xlabel(\"Training examples\")\n",
    "plt.ylabel(\"Fit_times\")\n",
    "plt.title(\"Scalability of the Adaboost model\")"
   ]
  },
  {
   "cell_type": "code",
   "execution_count": 50,
   "id": "351daa2d",
   "metadata": {},
   "outputs": [
    {
     "data": {
      "text/plain": [
       "Text(0.5, 1.0, 'Learning curve of Adaboost')"
      ]
     },
     "execution_count": 50,
     "metadata": {},
     "output_type": "execute_result"
    },
    {
     "data": {
      "image/png": "[encoded data removed]",
      "text/plain": [
       "<Figure size 432x288 with 1 Axes>"
      ]
     },
     "metadata": {
      "needs_background": "light"
     },
     "output_type": "display_data"
    }
   ],
   "source": [
    "plt.grid()\n",
    "\n",
    "plt.fill_between(train_sizes, train_scores_mean - train_scores_std,\n",
    "                     train_scores_mean + train_scores_std, alpha=0.1,\n",
    "                     color=\"r\")\n",
    "plt.fill_between(train_sizes, test_scores_mean - test_scores_std,\n",
    "                     test_scores_mean + test_scores_std, alpha=0.1, color=\"g\")\n",
    "plt.plot(train_sizes, train_scores_mean, 'o-', color=\"r\",\n",
    "             label=\"Training score\")\n",
    "plt.plot(train_sizes, test_scores_mean, 'o-', color=\"g\",\n",
    "             label=\"Cross-validation score\")\n",
    "plt.legend(loc=\"best\")\n",
    "plt.xlabel(\"Training examples\")\n",
    "plt.ylabel(\"Score\")\n",
    "plt.title(\"Learning curve of Adaboost\")"
   ]
  },
  {
   "cell_type": "markdown",
   "id": "24dd3368",
   "metadata": {},
   "source": [
    "## Support Vector Machine"
   ]
  },
  {
   "cell_type": "code",
   "execution_count": 16,
   "id": "d2d0449e",
   "metadata": {},
   "outputs": [
    {
     "name": "stdout",
     "output_type": "stream",
     "text": [
      "train time = 0.07835602760314941\n"
     ]
    }
   ],
   "source": [
    "from sklearn.svm import SVC\n",
    "start = time.time()\n",
    "svm_model = SVC()\n",
    "svm_model.fit(x_train, y_train)\n",
    "end = time.time()\n",
    "time_train = end-start\n",
    "print('train time =',time_train)"
   ]
  },
  {
   "cell_type": "code",
   "execution_count": 17,
   "id": "eadd3c82",
   "metadata": {},
   "outputs": [
    {
     "name": "stdout",
     "output_type": "stream",
     "text": [
      "test time = 0.05829620361328125\n"
     ]
    }
   ],
   "source": [
    "start = time.time()\n",
    "svm_pred = svm_model.predict(x_test)\n",
    "end = time.time()\n",
    "time_test = end-start\n",
    "print('test time =',time_test)"
   ]
  },
  {
   "cell_type": "code",
   "execution_count": 18,
   "id": "afb38ce0",
   "metadata": {},
   "outputs": [
    {
     "name": "stdout",
     "output_type": "stream",
     "text": [
      "training score =  0.6747095621090259 test score =  0.60625\n"
     ]
    }
   ],
   "source": [
    "score_train = svm_model.score(x_train,y_train)\n",
    "score_test = svm_model.score(x_test,y_test)\n",
    "print('training score = ',score_train,'test score = ',score_test)"
   ]
  },
  {
   "cell_type": "code",
   "execution_count": 248,
   "id": "1236cebb",
   "metadata": {},
   "outputs": [
    {
     "data": {
      "text/plain": [
       "GridSearchCV(estimator=SVC(),\n",
       "             param_grid={'C': [0.0001, 0.001, 0.01, 0.1, 1.0, 10.0, 100.0,\n",
       "                               1000.0],\n",
       "                         'kernel': ['rbf', 'poly', 'sigmoid', 'linear']})"
      ]
     },
     "execution_count": 248,
     "metadata": {},
     "output_type": "execute_result"
    }
   ],
   "source": [
    "svc_params = {'C':[0.0001, 0.001, 0.01, 0.1, 1.0, 10.0, 100.0, 1000.0],\n",
    "                      'kernel': ['rbf', 'poly', 'sigmoid', 'linear']}\n",
    "grid_svc = GridSearchCV(SVC(), svc_params)\n",
    "grid_svc.fit(x_train, y_train)"
   ]
  },
  {
   "cell_type": "code",
   "execution_count": 249,
   "id": "908cdece",
   "metadata": {},
   "outputs": [
    {
     "name": "stdout",
     "output_type": "stream",
     "text": [
      "Best Parameters for SVM:  SVC(C=10.0)\n",
      "Best Score for SVM:  0.6238308776425369\n",
      "------------------------------------------\n"
     ]
    }
   ],
   "source": [
    "svc = grid_svc.best_estimator_\n",
    "print(\"Best Parameters for SVM: \", grid_svc.best_estimator_)\n",
    "print(\"Best Score for SVM: \", grid_svc.best_score_)\n",
    "print(\"------------------------------------------\")"
   ]
  },
  {
   "cell_type": "code",
   "execution_count": 250,
   "id": "dbfef0ad",
   "metadata": {},
   "outputs": [
    {
     "name": "stderr",
     "output_type": "stream",
     "text": [
      "C:\\Users\\12619\\anaconda3\\lib\\site-packages\\sklearn\\model_selection\\_split.py:666: UserWarning: The least populated class in y has only 9 members, which is less than n_splits=10.\n",
      "  warnings.warn((\"The least populated class in y has only %d\"\n"
     ]
    },
    {
     "name": "stdout",
     "output_type": "stream",
     "text": [
      "Mean Accuracy of Cross Validation: % 63.63\n",
      "Std of Accuracy of Cross Validation: % 4\n",
      "------------------------------------------\n"
     ]
    }
   ],
   "source": [
    "scores = cross_val_score(svc, x_train, y_train, cv=10)\n",
    "print(\"Mean Accuracy of Cross Validation: %\", round(scores.mean()*100,2))\n",
    "print(\"Std of Accuracy of Cross Validation: %\", round(scores.std()*100))\n",
    "print(\"------------------------------------------\")"
   ]
  },
  {
   "cell_type": "code",
   "execution_count": 251,
   "id": "c7040ded",
   "metadata": {},
   "outputs": [
    {
     "name": "stdout",
     "output_type": "stream",
     "text": [
      "Accuracy of SVM: 62.5\n",
      "Confusion matrix of SVM:\n",
      " [[  0   0   1   0   0   0]\n",
      " [  0   1  12   4   0   0]\n",
      " [  1   1 149  41   3   0]\n",
      " [  0   0  59 125  15   1]\n",
      " [  0   0   0  35  25   1]\n",
      " [  0   0   0   2   4   0]]\n",
      "==========================================\n"
     ]
    }
   ],
   "source": [
    "#Predict the test data as selected classifier\n",
    "clf_prediction = svc.predict(x_test)\n",
    "clf1_accuracy = sum(y_test == clf_prediction)/len(y_test)\n",
    "print(\"Accuracy of SVM:\",clf1_accuracy*100)\n",
    "\n",
    "#print confusion matrix and accuracy score before best parameters\n",
    "clf1_conf_matrix = confusion_matrix(y_test, clf_prediction)\n",
    "print(\"Confusion matrix of SVM:\\n\", clf1_conf_matrix)\n",
    "print(\"==========================================\")"
   ]
  },
  {
   "cell_type": "code",
   "execution_count": 19,
   "id": "58095b65",
   "metadata": {},
   "outputs": [
    {
     "name": "stdout",
     "output_type": "stream",
     "text": [
      "When kernel = rbf, C = 10, train time = 0.08137655258178711\n"
     ]
    }
   ],
   "source": [
    "start = time.time()\n",
    "svm_grid = SVC(kernel=\"rbf\",C=10.0).fit(x_train,y_train)\n",
    "end = time.time()\n",
    "time_train = end-start\n",
    "print('When kernel = rbf, C = 10, train time =',time_train)"
   ]
  },
  {
   "cell_type": "code",
   "execution_count": 56,
   "id": "82e561fa",
   "metadata": {},
   "outputs": [
    {
     "name": "stdout",
     "output_type": "stream",
     "text": [
      "When kernel = rbf, C = 10, train time = 0.0465548038482666\n"
     ]
    }
   ],
   "source": [
    "start = time.time()\n",
    "svm_grid_pred = svm_grid.predict(x_test)\n",
    "end = time.time()\n",
    "time_test = end-start\n",
    "print('When kernel = rbf, C = 10, train time =',time_test)"
   ]
  },
  {
   "cell_type": "code",
   "execution_count": 57,
   "id": "468b96aa",
   "metadata": {},
   "outputs": [
    {
     "name": "stdout",
     "output_type": "stream",
     "text": [
      "training score =  0.8060768543342269 test score =  0.625\n"
     ]
    }
   ],
   "source": [
    "score_train = svm_grid.score(x_train,y_train)\n",
    "score_test = svm_grid.score(x_test,y_test)\n",
    "print('training score = ',score_train,'test score = ',score_test)"
   ]
  },
  {
   "cell_type": "code",
   "execution_count": 21,
   "id": "2b00a814",
   "metadata": {},
   "outputs": [
    {
     "name": "stdout",
     "output_type": "stream",
     "text": [
      "training score =  0.7605004468275246 test score =  0.58125\n"
     ]
    }
   ],
   "source": [
    "svm_grid = SVC(kernel=\"poly\",C=10.0).fit(x_train,y_train)\n",
    "score_train = svm_grid.score(x_train,y_train)\n",
    "score_test = svm_grid.score(x_test,y_test)\n",
    "print('training score = ',score_train,'test score = ',score_test)"
   ]
  },
  {
   "cell_type": "code",
   "execution_count": 22,
   "id": "62a92a0c",
   "metadata": {},
   "outputs": [
    {
     "name": "stdout",
     "output_type": "stream",
     "text": [
      "training score =  0.4879356568364611 test score =  0.42916666666666664\n"
     ]
    }
   ],
   "source": [
    "svm_grid = SVC(kernel=\"sigmoid\",C=10.0).fit(x_train,y_train)\n",
    "score_train = svm_grid.score(x_train,y_train)\n",
    "score_test = svm_grid.score(x_test,y_test)\n",
    "print('training score = ',score_train,'test score = ',score_test)"
   ]
  },
  {
   "cell_type": "code",
   "execution_count": 23,
   "id": "21ea2064",
   "metadata": {},
   "outputs": [
    {
     "name": "stdout",
     "output_type": "stream",
     "text": [
      "training score =  0.6014298480786416 test score =  0.5604166666666667\n"
     ]
    }
   ],
   "source": [
    "svm_grid = SVC(kernel=\"linear\",C=10.0).fit(x_train,y_train)\n",
    "score_train = svm_grid.score(x_train,y_train)\n",
    "score_test = svm_grid.score(x_test,y_test)\n",
    "print('training score = ',score_train,'test score = ',score_test)"
   ]
  },
  {
   "cell_type": "code",
   "execution_count": 254,
   "id": "a770c786",
   "metadata": {},
   "outputs": [
    {
     "data": {
      "image/png": "[encoded data removed]",
      "text/plain": [
       "<Figure size 432x288 with 1 Axes>"
      ]
     },
     "metadata": {
      "needs_background": "light"
     },
     "output_type": "display_data"
    }
   ],
   "source": [
    "param_range = np.logspace(-4, 4, 5)\n",
    "\n",
    "# Calculate the training and testing scores\n",
    "train_scores, test_scores = validation_curve(\n",
    "    svm_grid, X, y, param_name=\"C\", param_range=param_range,\n",
    "    scoring=\"accuracy\", n_jobs=1)\n",
    "train_scores_mean = np.mean(train_scores, axis=1)\n",
    "train_scores_std = np.std(train_scores, axis=1)\n",
    "test_scores_mean = np.mean(test_scores, axis=1)\n",
    "test_scores_std = np.std(test_scores, axis=1)\n",
    "\n",
    "plt.title(\"Validation Curve with SVM\")\n",
    "plt.xlabel(\"C\")\n",
    "plt.ylabel(\"Score\")\n",
    "plt.ylim(0.3, 0.8)\n",
    "lw = 2\n",
    "plt.semilogx(param_range, train_scores_mean, label=\"Training score\",\n",
    "             color=\"darkorange\", lw=lw)\n",
    "plt.fill_between(param_range, train_scores_mean - train_scores_std,\n",
    "                 train_scores_mean + train_scores_std, alpha=0.2,\n",
    "                 color=\"darkorange\", lw=lw)\n",
    "plt.semilogx(param_range, test_scores_mean, label=\"Cross-validation score\",\n",
    "             color=\"navy\", lw=lw)\n",
    "plt.fill_between(param_range, test_scores_mean - test_scores_std,\n",
    "                 test_scores_mean + test_scores_std, alpha=0.2,\n",
    "                 color=\"navy\", lw=lw)\n",
    "plt.legend(loc=\"best\")\n",
    "plt.show()"
   ]
  },
  {
   "cell_type": "code",
   "execution_count": 20,
   "id": "a697007d",
   "metadata": {},
   "outputs": [
    {
     "data": {
      "text/plain": [
       "Text(0.5, 1.0, 'Performance of the model')"
      ]
     },
     "execution_count": 20,
     "metadata": {},
     "output_type": "execute_result"
    },
    {
     "data": {
      "image/png": "[encoded data removed]",
      "text/plain": [
       "<Figure size 432x288 with 1 Axes>"
      ]
     },
     "metadata": {
      "needs_background": "light"
     },
     "output_type": "display_data"
    }
   ],
   "source": [
    "train_sizes, train_scores, test_scores, fit_times, _ = \\\n",
    "        learning_curve(svm_grid, X_t, y, cv=cv, \n",
    "                                        n_jobs=4, train_sizes=np.linspace(.1, 1.0, 5),return_times=True)\n",
    "\n",
    "fit_times_mean = np.mean(fit_times,axis = 1)\n",
    "fit_times_std = np.std(fit_times,axis = 1)\n",
    "train_scores_mean = np.mean(train_scores, axis=1)\n",
    "train_scores_std = np.std(train_scores, axis=1)\n",
    "test_scores_mean = np.mean(test_scores, axis=1)\n",
    "test_scores_std = np.std(test_scores, axis=1)\n",
    "\n",
    "plt.grid()\n",
    "plt.plot(fit_times_mean, test_scores_mean, 'o-')\n",
    "plt.fill_between(fit_times_mean, test_scores_mean - test_scores_std,\n",
    "                         test_scores_mean + test_scores_std, alpha=0.1)\n",
    "plt.xlabel(\"fit_times\")\n",
    "plt.ylabel(\"Score\")\n",
    "plt.title(\"Performance of the model\")"
   ]
  },
  {
   "cell_type": "markdown",
   "id": "021993fc",
   "metadata": {},
   "source": [
    "## K nearest neighbors"
   ]
  },
  {
   "cell_type": "code",
   "execution_count": 24,
   "id": "bc8ee53d",
   "metadata": {},
   "outputs": [
    {
     "name": "stdout",
     "output_type": "stream",
     "text": [
      "train time = 0.015082120895385742\n"
     ]
    }
   ],
   "source": [
    "from sklearn.neighbors import KNeighborsClassifier\n",
    "start = time.time()\n",
    "knn_model = KNeighborsClassifier()\n",
    "knn_model.fit(x_train, y_train)\n",
    "end = time.time()\n",
    "time_train = end-start\n",
    "print('train time =',time_train)"
   ]
  },
  {
   "cell_type": "code",
   "execution_count": 25,
   "id": "3f597010",
   "metadata": {},
   "outputs": [
    {
     "name": "stdout",
     "output_type": "stream",
     "text": [
      "test time = 0.029422283172607422\n"
     ]
    }
   ],
   "source": [
    "start = time.time()\n",
    "knn_pred = knn_model.predict(x_test)\n",
    "end = time.time()\n",
    "time_test = end-start\n",
    "print('test time =',time_test)"
   ]
  },
  {
   "cell_type": "code",
   "execution_count": 26,
   "id": "63b867fa",
   "metadata": {},
   "outputs": [
    {
     "name": "stdout",
     "output_type": "stream",
     "text": [
      "training score =  0.7050938337801609 test score =  0.5708333333333333\n"
     ]
    }
   ],
   "source": [
    "score_train = knn_model.score(x_train,y_train)\n",
    "score_test = knn_model.score(x_test,y_test)\n",
    "print('training score = ',score_train,'test score = ',score_test)"
   ]
  },
  {
   "cell_type": "code",
   "execution_count": 82,
   "id": "2a830a7e",
   "metadata": {},
   "outputs": [
    {
     "name": "stderr",
     "output_type": "stream",
     "text": [
      "C:\\Users\\12619\\anaconda3\\lib\\site-packages\\sklearn\\model_selection\\_validation.py:683: UserWarning: Scoring failed. The score on this train-test partition for these parameters will be set to nan. Details: \n",
      "Traceback (most recent call last):\n",
      "  File \"C:\\Users\\12619\\anaconda3\\lib\\site-packages\\sklearn\\model_selection\\_validation.py\", line 674, in _score\n",
      "    scores = scorer(estimator, X_test, y_test)\n",
      "  File \"C:\\Users\\12619\\anaconda3\\lib\\site-packages\\sklearn\\metrics\\_scorer.py\", line 397, in _passthrough_scorer\n",
      "    return estimator.score(*args, **kwargs)\n",
      "  File \"C:\\Users\\12619\\anaconda3\\lib\\site-packages\\sklearn\\base.py\", line 500, in score\n",
      "    return accuracy_score(y, self.predict(X), sample_weight=sample_weight)\n",
      "  File \"C:\\Users\\12619\\anaconda3\\lib\\site-packages\\sklearn\\neighbors\\_classification.py\", line 206, in predict\n",
      "    weights = _get_weights(neigh_dist, self.weights)\n",
      "  File \"C:\\Users\\12619\\anaconda3\\lib\\site-packages\\sklearn\\neighbors\\_base.py\", line 111, in _get_weights\n",
      "    raise ValueError(\"weights not recognized: should be 'uniform', \"\n",
      "ValueError: weights not recognized: should be 'uniform', 'distance', or a callable function\n",
      "\n",
      "  warnings.warn(\n",
      "C:\\Users\\12619\\anaconda3\\lib\\site-packages\\sklearn\\model_selection\\_validation.py:683: UserWarning: Scoring failed. The score on this train-test partition for these parameters will be set to nan. Details: \n",
      "Traceback (most recent call last):\n",
      "  File \"C:\\Users\\12619\\anaconda3\\lib\\site-packages\\sklearn\\model_selection\\_validation.py\", line 674, in _score\n",
      "    scores = scorer(estimator, X_test, y_test)\n",
      "  File \"C:\\Users\\12619\\anaconda3\\lib\\site-packages\\sklearn\\metrics\\_scorer.py\", line 397, in _passthrough_scorer\n",
      "    return estimator.score(*args, **kwargs)\n",
      "  File \"C:\\Users\\12619\\anaconda3\\lib\\site-packages\\sklearn\\base.py\", line 500, in score\n",
      "    return accuracy_score(y, self.predict(X), sample_weight=sample_weight)\n",
      "  File \"C:\\Users\\12619\\anaconda3\\lib\\site-packages\\sklearn\\neighbors\\_classification.py\", line 206, in predict\n",
      "    weights = _get_weights(neigh_dist, self.weights)\n",
      "  File \"C:\\Users\\12619\\anaconda3\\lib\\site-packages\\sklearn\\neighbors\\_base.py\", line 111, in _get_weights\n",
      "    raise ValueError(\"weights not recognized: should be 'uniform', \"\n",
      "ValueError: weights not recognized: should be 'uniform', 'distance', or a callable function\n",
      "\n",
      "  warnings.warn(\n",
      "C:\\Users\\12619\\anaconda3\\lib\\site-packages\\sklearn\\model_selection\\_validation.py:683: UserWarning: Scoring failed. The score on this train-test partition for these parameters will be set to nan. Details: \n",
      "Traceback (most recent call last):\n",
      "  File \"C:\\Users\\12619\\anaconda3\\lib\\site-packages\\sklearn\\model_selection\\_validation.py\", line 674, in _score\n",
      "    scores = scorer(estimator, X_test, y_test)\n",
      "  File \"C:\\Users\\12619\\anaconda3\\lib\\site-packages\\sklearn\\metrics\\_scorer.py\", line 397, in _passthrough_scorer\n",
      "    return estimator.score(*args, **kwargs)\n",
      "  File \"C:\\Users\\12619\\anaconda3\\lib\\site-packages\\sklearn\\base.py\", line 500, in score\n",
      "    return accuracy_score(y, self.predict(X), sample_weight=sample_weight)\n",
      "  File \"C:\\Users\\12619\\anaconda3\\lib\\site-packages\\sklearn\\neighbors\\_classification.py\", line 206, in predict\n",
      "    weights = _get_weights(neigh_dist, self.weights)\n",
      "  File \"C:\\Users\\12619\\anaconda3\\lib\\site-packages\\sklearn\\neighbors\\_base.py\", line 111, in _get_weights\n",
      "    raise ValueError(\"weights not recognized: should be 'uniform', \"\n",
      "ValueError: weights not recognized: should be 'uniform', 'distance', or a callable function\n",
      "\n",
      "  warnings.warn(\n",
      "C:\\Users\\12619\\anaconda3\\lib\\site-packages\\sklearn\\model_selection\\_validation.py:683: UserWarning: Scoring failed. The score on this train-test partition for these parameters will be set to nan. Details: \n",
      "Traceback (most recent call last):\n",
      "  File \"C:\\Users\\12619\\anaconda3\\lib\\site-packages\\sklearn\\model_selection\\_validation.py\", line 674, in _score\n",
      "    scores = scorer(estimator, X_test, y_test)\n",
      "  File \"C:\\Users\\12619\\anaconda3\\lib\\site-packages\\sklearn\\metrics\\_scorer.py\", line 397, in _passthrough_scorer\n",
      "    return estimator.score(*args, **kwargs)\n",
      "  File \"C:\\Users\\12619\\anaconda3\\lib\\site-packages\\sklearn\\base.py\", line 500, in score\n",
      "    return accuracy_score(y, self.predict(X), sample_weight=sample_weight)\n",
      "  File \"C:\\Users\\12619\\anaconda3\\lib\\site-packages\\sklearn\\neighbors\\_classification.py\", line 206, in predict\n",
      "    weights = _get_weights(neigh_dist, self.weights)\n",
      "  File \"C:\\Users\\12619\\anaconda3\\lib\\site-packages\\sklearn\\neighbors\\_base.py\", line 111, in _get_weights\n",
      "    raise ValueError(\"weights not recognized: should be 'uniform', \"\n",
      "ValueError: weights not recognized: should be 'uniform', 'distance', or a callable function\n",
      "\n",
      "  warnings.warn(\n",
      "C:\\Users\\12619\\anaconda3\\lib\\site-packages\\sklearn\\model_selection\\_validation.py:683: UserWarning: Scoring failed. The score on this train-test partition for these parameters will be set to nan. Details: \n",
      "Traceback (most recent call last):\n",
      "  File \"C:\\Users\\12619\\anaconda3\\lib\\site-packages\\sklearn\\model_selection\\_validation.py\", line 674, in _score\n",
      "    scores = scorer(estimator, X_test, y_test)\n",
      "  File \"C:\\Users\\12619\\anaconda3\\lib\\site-packages\\sklearn\\metrics\\_scorer.py\", line 397, in _passthrough_scorer\n",
      "    return estimator.score(*args, **kwargs)\n",
      "  File \"C:\\Users\\12619\\anaconda3\\lib\\site-packages\\sklearn\\base.py\", line 500, in score\n",
      "    return accuracy_score(y, self.predict(X), sample_weight=sample_weight)\n",
      "  File \"C:\\Users\\12619\\anaconda3\\lib\\site-packages\\sklearn\\neighbors\\_classification.py\", line 206, in predict\n",
      "    weights = _get_weights(neigh_dist, self.weights)\n",
      "  File \"C:\\Users\\12619\\anaconda3\\lib\\site-packages\\sklearn\\neighbors\\_base.py\", line 111, in _get_weights\n",
      "    raise ValueError(\"weights not recognized: should be 'uniform', \"\n",
      "ValueError: weights not recognized: should be 'uniform', 'distance', or a callable function\n",
      "\n",
      "  warnings.warn(\n",
      "C:\\Users\\12619\\anaconda3\\lib\\site-packages\\sklearn\\model_selection\\_validation.py:683: UserWarning: Scoring failed. The score on this train-test partition for these parameters will be set to nan. Details: \n",
      "Traceback (most recent call last):\n",
      "  File \"C:\\Users\\12619\\anaconda3\\lib\\site-packages\\sklearn\\model_selection\\_validation.py\", line 674, in _score\n",
      "    scores = scorer(estimator, X_test, y_test)\n",
      "  File \"C:\\Users\\12619\\anaconda3\\lib\\site-packages\\sklearn\\metrics\\_scorer.py\", line 397, in _passthrough_scorer\n",
      "    return estimator.score(*args, **kwargs)\n",
      "  File \"C:\\Users\\12619\\anaconda3\\lib\\site-packages\\sklearn\\base.py\", line 500, in score\n",
      "    return accuracy_score(y, self.predict(X), sample_weight=sample_weight)\n",
      "  File \"C:\\Users\\12619\\anaconda3\\lib\\site-packages\\sklearn\\neighbors\\_classification.py\", line 206, in predict\n",
      "    weights = _get_weights(neigh_dist, self.weights)\n",
      "  File \"C:\\Users\\12619\\anaconda3\\lib\\site-packages\\sklearn\\neighbors\\_base.py\", line 111, in _get_weights\n",
      "    raise ValueError(\"weights not recognized: should be 'uniform', \"\n",
      "ValueError: weights not recognized: should be 'uniform', 'distance', or a callable function\n",
      "\n",
      "  warnings.warn(\n",
      "C:\\Users\\12619\\anaconda3\\lib\\site-packages\\sklearn\\model_selection\\_validation.py:683: UserWarning: Scoring failed. The score on this train-test partition for these parameters will be set to nan. Details: \n",
      "Traceback (most recent call last):\n",
      "  File \"C:\\Users\\12619\\anaconda3\\lib\\site-packages\\sklearn\\model_selection\\_validation.py\", line 674, in _score\n",
      "    scores = scorer(estimator, X_test, y_test)\n",
      "  File \"C:\\Users\\12619\\anaconda3\\lib\\site-packages\\sklearn\\metrics\\_scorer.py\", line 397, in _passthrough_scorer\n",
      "    return estimator.score(*args, **kwargs)\n",
      "  File \"C:\\Users\\12619\\anaconda3\\lib\\site-packages\\sklearn\\base.py\", line 500, in score\n",
      "    return accuracy_score(y, self.predict(X), sample_weight=sample_weight)\n",
      "  File \"C:\\Users\\12619\\anaconda3\\lib\\site-packages\\sklearn\\neighbors\\_classification.py\", line 206, in predict\n",
      "    weights = _get_weights(neigh_dist, self.weights)\n",
      "  File \"C:\\Users\\12619\\anaconda3\\lib\\site-packages\\sklearn\\neighbors\\_base.py\", line 111, in _get_weights\n",
      "    raise ValueError(\"weights not recognized: should be 'uniform', \"\n",
      "ValueError: weights not recognized: should be 'uniform', 'distance', or a callable function\n",
      "\n",
      "  warnings.warn(\n",
      "C:\\Users\\12619\\anaconda3\\lib\\site-packages\\sklearn\\model_selection\\_validation.py:683: UserWarning: Scoring failed. The score on this train-test partition for these parameters will be set to nan. Details: \n",
      "Traceback (most recent call last):\n",
      "  File \"C:\\Users\\12619\\anaconda3\\lib\\site-packages\\sklearn\\model_selection\\_validation.py\", line 674, in _score\n",
      "    scores = scorer(estimator, X_test, y_test)\n",
      "  File \"C:\\Users\\12619\\anaconda3\\lib\\site-packages\\sklearn\\metrics\\_scorer.py\", line 397, in _passthrough_scorer\n",
      "    return estimator.score(*args, **kwargs)\n",
      "  File \"C:\\Users\\12619\\anaconda3\\lib\\site-packages\\sklearn\\base.py\", line 500, in score\n",
      "    return accuracy_score(y, self.predict(X), sample_weight=sample_weight)\n",
      "  File \"C:\\Users\\12619\\anaconda3\\lib\\site-packages\\sklearn\\neighbors\\_classification.py\", line 206, in predict\n",
      "    weights = _get_weights(neigh_dist, self.weights)\n",
      "  File \"C:\\Users\\12619\\anaconda3\\lib\\site-packages\\sklearn\\neighbors\\_base.py\", line 111, in _get_weights\n",
      "    raise ValueError(\"weights not recognized: should be 'uniform', \"\n",
      "ValueError: weights not recognized: should be 'uniform', 'distance', or a callable function\n",
      "\n",
      "  warnings.warn(\n",
      "C:\\Users\\12619\\anaconda3\\lib\\site-packages\\sklearn\\model_selection\\_validation.py:683: UserWarning: Scoring failed. The score on this train-test partition for these parameters will be set to nan. Details: \n",
      "Traceback (most recent call last):\n",
      "  File \"C:\\Users\\12619\\anaconda3\\lib\\site-packages\\sklearn\\model_selection\\_validation.py\", line 674, in _score\n",
      "    scores = scorer(estimator, X_test, y_test)\n",
      "  File \"C:\\Users\\12619\\anaconda3\\lib\\site-packages\\sklearn\\metrics\\_scorer.py\", line 397, in _passthrough_scorer\n",
      "    return estimator.score(*args, **kwargs)\n",
      "  File \"C:\\Users\\12619\\anaconda3\\lib\\site-packages\\sklearn\\base.py\", line 500, in score\n",
      "    return accuracy_score(y, self.predict(X), sample_weight=sample_weight)\n",
      "  File \"C:\\Users\\12619\\anaconda3\\lib\\site-packages\\sklearn\\neighbors\\_classification.py\", line 206, in predict\n",
      "    weights = _get_weights(neigh_dist, self.weights)\n",
      "  File \"C:\\Users\\12619\\anaconda3\\lib\\site-packages\\sklearn\\neighbors\\_base.py\", line 111, in _get_weights\n",
      "    raise ValueError(\"weights not recognized: should be 'uniform', \"\n",
      "ValueError: weights not recognized: should be 'uniform', 'distance', or a callable function\n",
      "\n",
      "  warnings.warn(\n",
      "C:\\Users\\12619\\anaconda3\\lib\\site-packages\\sklearn\\model_selection\\_validation.py:683: UserWarning: Scoring failed. The score on this train-test partition for these parameters will be set to nan. Details: \n",
      "Traceback (most recent call last):\n",
      "  File \"C:\\Users\\12619\\anaconda3\\lib\\site-packages\\sklearn\\model_selection\\_validation.py\", line 674, in _score\n",
      "    scores = scorer(estimator, X_test, y_test)\n",
      "  File \"C:\\Users\\12619\\anaconda3\\lib\\site-packages\\sklearn\\metrics\\_scorer.py\", line 397, in _passthrough_scorer\n",
      "    return estimator.score(*args, **kwargs)\n",
      "  File \"C:\\Users\\12619\\anaconda3\\lib\\site-packages\\sklearn\\base.py\", line 500, in score\n",
      "    return accuracy_score(y, self.predict(X), sample_weight=sample_weight)\n",
      "  File \"C:\\Users\\12619\\anaconda3\\lib\\site-packages\\sklearn\\neighbors\\_classification.py\", line 206, in predict\n",
      "    weights = _get_weights(neigh_dist, self.weights)\n",
      "  File \"C:\\Users\\12619\\anaconda3\\lib\\site-packages\\sklearn\\neighbors\\_base.py\", line 111, in _get_weights\n",
      "    raise ValueError(\"weights not recognized: should be 'uniform', \"\n",
      "ValueError: weights not recognized: should be 'uniform', 'distance', or a callable function\n",
      "\n",
      "  warnings.warn(\n"
     ]
    },
    {
     "name": "stderr",
     "output_type": "stream",
     "text": [
      "C:\\Users\\12619\\anaconda3\\lib\\site-packages\\sklearn\\model_selection\\_validation.py:683: UserWarning: Scoring failed. The score on this train-test partition for these parameters will be set to nan. Details: \n",
      "Traceback (most recent call last):\n",
      "  File \"C:\\Users\\12619\\anaconda3\\lib\\site-packages\\sklearn\\model_selection\\_validation.py\", line 674, in _score\n",
      "    scores = scorer(estimator, X_test, y_test)\n",
      "  File \"C:\\Users\\12619\\anaconda3\\lib\\site-packages\\sklearn\\metrics\\_scorer.py\", line 397, in _passthrough_scorer\n",
      "    return estimator.score(*args, **kwargs)\n",
      "  File \"C:\\Users\\12619\\anaconda3\\lib\\site-packages\\sklearn\\base.py\", line 500, in score\n",
      "    return accuracy_score(y, self.predict(X), sample_weight=sample_weight)\n",
      "  File \"C:\\Users\\12619\\anaconda3\\lib\\site-packages\\sklearn\\neighbors\\_classification.py\", line 206, in predict\n",
      "    weights = _get_weights(neigh_dist, self.weights)\n",
      "  File \"C:\\Users\\12619\\anaconda3\\lib\\site-packages\\sklearn\\neighbors\\_base.py\", line 111, in _get_weights\n",
      "    raise ValueError(\"weights not recognized: should be 'uniform', \"\n",
      "ValueError: weights not recognized: should be 'uniform', 'distance', or a callable function\n",
      "\n",
      "  warnings.warn(\n",
      "C:\\Users\\12619\\anaconda3\\lib\\site-packages\\sklearn\\model_selection\\_validation.py:683: UserWarning: Scoring failed. The score on this train-test partition for these parameters will be set to nan. Details: \n",
      "Traceback (most recent call last):\n",
      "  File \"C:\\Users\\12619\\anaconda3\\lib\\site-packages\\sklearn\\model_selection\\_validation.py\", line 674, in _score\n",
      "    scores = scorer(estimator, X_test, y_test)\n",
      "  File \"C:\\Users\\12619\\anaconda3\\lib\\site-packages\\sklearn\\metrics\\_scorer.py\", line 397, in _passthrough_scorer\n",
      "    return estimator.score(*args, **kwargs)\n",
      "  File \"C:\\Users\\12619\\anaconda3\\lib\\site-packages\\sklearn\\base.py\", line 500, in score\n",
      "    return accuracy_score(y, self.predict(X), sample_weight=sample_weight)\n",
      "  File \"C:\\Users\\12619\\anaconda3\\lib\\site-packages\\sklearn\\neighbors\\_classification.py\", line 206, in predict\n",
      "    weights = _get_weights(neigh_dist, self.weights)\n",
      "  File \"C:\\Users\\12619\\anaconda3\\lib\\site-packages\\sklearn\\neighbors\\_base.py\", line 111, in _get_weights\n",
      "    raise ValueError(\"weights not recognized: should be 'uniform', \"\n",
      "ValueError: weights not recognized: should be 'uniform', 'distance', or a callable function\n",
      "\n",
      "  warnings.warn(\n",
      "C:\\Users\\12619\\anaconda3\\lib\\site-packages\\sklearn\\model_selection\\_validation.py:683: UserWarning: Scoring failed. The score on this train-test partition for these parameters will be set to nan. Details: \n",
      "Traceback (most recent call last):\n",
      "  File \"C:\\Users\\12619\\anaconda3\\lib\\site-packages\\sklearn\\model_selection\\_validation.py\", line 674, in _score\n",
      "    scores = scorer(estimator, X_test, y_test)\n",
      "  File \"C:\\Users\\12619\\anaconda3\\lib\\site-packages\\sklearn\\metrics\\_scorer.py\", line 397, in _passthrough_scorer\n",
      "    return estimator.score(*args, **kwargs)\n",
      "  File \"C:\\Users\\12619\\anaconda3\\lib\\site-packages\\sklearn\\base.py\", line 500, in score\n",
      "    return accuracy_score(y, self.predict(X), sample_weight=sample_weight)\n",
      "  File \"C:\\Users\\12619\\anaconda3\\lib\\site-packages\\sklearn\\neighbors\\_classification.py\", line 206, in predict\n",
      "    weights = _get_weights(neigh_dist, self.weights)\n",
      "  File \"C:\\Users\\12619\\anaconda3\\lib\\site-packages\\sklearn\\neighbors\\_base.py\", line 111, in _get_weights\n",
      "    raise ValueError(\"weights not recognized: should be 'uniform', \"\n",
      "ValueError: weights not recognized: should be 'uniform', 'distance', or a callable function\n",
      "\n",
      "  warnings.warn(\n",
      "C:\\Users\\12619\\anaconda3\\lib\\site-packages\\sklearn\\model_selection\\_validation.py:683: UserWarning: Scoring failed. The score on this train-test partition for these parameters will be set to nan. Details: \n",
      "Traceback (most recent call last):\n",
      "  File \"C:\\Users\\12619\\anaconda3\\lib\\site-packages\\sklearn\\model_selection\\_validation.py\", line 674, in _score\n",
      "    scores = scorer(estimator, X_test, y_test)\n",
      "  File \"C:\\Users\\12619\\anaconda3\\lib\\site-packages\\sklearn\\metrics\\_scorer.py\", line 397, in _passthrough_scorer\n",
      "    return estimator.score(*args, **kwargs)\n",
      "  File \"C:\\Users\\12619\\anaconda3\\lib\\site-packages\\sklearn\\base.py\", line 500, in score\n",
      "    return accuracy_score(y, self.predict(X), sample_weight=sample_weight)\n",
      "  File \"C:\\Users\\12619\\anaconda3\\lib\\site-packages\\sklearn\\neighbors\\_classification.py\", line 206, in predict\n",
      "    weights = _get_weights(neigh_dist, self.weights)\n",
      "  File \"C:\\Users\\12619\\anaconda3\\lib\\site-packages\\sklearn\\neighbors\\_base.py\", line 111, in _get_weights\n",
      "    raise ValueError(\"weights not recognized: should be 'uniform', \"\n",
      "ValueError: weights not recognized: should be 'uniform', 'distance', or a callable function\n",
      "\n",
      "  warnings.warn(\n",
      "C:\\Users\\12619\\anaconda3\\lib\\site-packages\\sklearn\\model_selection\\_validation.py:683: UserWarning: Scoring failed. The score on this train-test partition for these parameters will be set to nan. Details: \n",
      "Traceback (most recent call last):\n",
      "  File \"C:\\Users\\12619\\anaconda3\\lib\\site-packages\\sklearn\\model_selection\\_validation.py\", line 674, in _score\n",
      "    scores = scorer(estimator, X_test, y_test)\n",
      "  File \"C:\\Users\\12619\\anaconda3\\lib\\site-packages\\sklearn\\metrics\\_scorer.py\", line 397, in _passthrough_scorer\n",
      "    return estimator.score(*args, **kwargs)\n",
      "  File \"C:\\Users\\12619\\anaconda3\\lib\\site-packages\\sklearn\\base.py\", line 500, in score\n",
      "    return accuracy_score(y, self.predict(X), sample_weight=sample_weight)\n",
      "  File \"C:\\Users\\12619\\anaconda3\\lib\\site-packages\\sklearn\\neighbors\\_classification.py\", line 206, in predict\n",
      "    weights = _get_weights(neigh_dist, self.weights)\n",
      "  File \"C:\\Users\\12619\\anaconda3\\lib\\site-packages\\sklearn\\neighbors\\_base.py\", line 111, in _get_weights\n",
      "    raise ValueError(\"weights not recognized: should be 'uniform', \"\n",
      "ValueError: weights not recognized: should be 'uniform', 'distance', or a callable function\n",
      "\n",
      "  warnings.warn(\n",
      "C:\\Users\\12619\\anaconda3\\lib\\site-packages\\sklearn\\model_selection\\_validation.py:683: UserWarning: Scoring failed. The score on this train-test partition for these parameters will be set to nan. Details: \n",
      "Traceback (most recent call last):\n",
      "  File \"C:\\Users\\12619\\anaconda3\\lib\\site-packages\\sklearn\\model_selection\\_validation.py\", line 674, in _score\n",
      "    scores = scorer(estimator, X_test, y_test)\n",
      "  File \"C:\\Users\\12619\\anaconda3\\lib\\site-packages\\sklearn\\metrics\\_scorer.py\", line 397, in _passthrough_scorer\n",
      "    return estimator.score(*args, **kwargs)\n",
      "  File \"C:\\Users\\12619\\anaconda3\\lib\\site-packages\\sklearn\\base.py\", line 500, in score\n",
      "    return accuracy_score(y, self.predict(X), sample_weight=sample_weight)\n",
      "  File \"C:\\Users\\12619\\anaconda3\\lib\\site-packages\\sklearn\\neighbors\\_classification.py\", line 206, in predict\n",
      "    weights = _get_weights(neigh_dist, self.weights)\n",
      "  File \"C:\\Users\\12619\\anaconda3\\lib\\site-packages\\sklearn\\neighbors\\_base.py\", line 111, in _get_weights\n",
      "    raise ValueError(\"weights not recognized: should be 'uniform', \"\n",
      "ValueError: weights not recognized: should be 'uniform', 'distance', or a callable function\n",
      "\n",
      "  warnings.warn(\n",
      "C:\\Users\\12619\\anaconda3\\lib\\site-packages\\sklearn\\model_selection\\_validation.py:683: UserWarning: Scoring failed. The score on this train-test partition for these parameters will be set to nan. Details: \n",
      "Traceback (most recent call last):\n",
      "  File \"C:\\Users\\12619\\anaconda3\\lib\\site-packages\\sklearn\\model_selection\\_validation.py\", line 674, in _score\n",
      "    scores = scorer(estimator, X_test, y_test)\n",
      "  File \"C:\\Users\\12619\\anaconda3\\lib\\site-packages\\sklearn\\metrics\\_scorer.py\", line 397, in _passthrough_scorer\n",
      "    return estimator.score(*args, **kwargs)\n",
      "  File \"C:\\Users\\12619\\anaconda3\\lib\\site-packages\\sklearn\\base.py\", line 500, in score\n",
      "    return accuracy_score(y, self.predict(X), sample_weight=sample_weight)\n",
      "  File \"C:\\Users\\12619\\anaconda3\\lib\\site-packages\\sklearn\\neighbors\\_classification.py\", line 206, in predict\n",
      "    weights = _get_weights(neigh_dist, self.weights)\n",
      "  File \"C:\\Users\\12619\\anaconda3\\lib\\site-packages\\sklearn\\neighbors\\_base.py\", line 111, in _get_weights\n",
      "    raise ValueError(\"weights not recognized: should be 'uniform', \"\n",
      "ValueError: weights not recognized: should be 'uniform', 'distance', or a callable function\n",
      "\n",
      "  warnings.warn(\n",
      "C:\\Users\\12619\\anaconda3\\lib\\site-packages\\sklearn\\model_selection\\_validation.py:683: UserWarning: Scoring failed. The score on this train-test partition for these parameters will be set to nan. Details: \n",
      "Traceback (most recent call last):\n",
      "  File \"C:\\Users\\12619\\anaconda3\\lib\\site-packages\\sklearn\\model_selection\\_validation.py\", line 674, in _score\n",
      "    scores = scorer(estimator, X_test, y_test)\n",
      "  File \"C:\\Users\\12619\\anaconda3\\lib\\site-packages\\sklearn\\metrics\\_scorer.py\", line 397, in _passthrough_scorer\n",
      "    return estimator.score(*args, **kwargs)\n",
      "  File \"C:\\Users\\12619\\anaconda3\\lib\\site-packages\\sklearn\\base.py\", line 500, in score\n",
      "    return accuracy_score(y, self.predict(X), sample_weight=sample_weight)\n",
      "  File \"C:\\Users\\12619\\anaconda3\\lib\\site-packages\\sklearn\\neighbors\\_classification.py\", line 206, in predict\n",
      "    weights = _get_weights(neigh_dist, self.weights)\n",
      "  File \"C:\\Users\\12619\\anaconda3\\lib\\site-packages\\sklearn\\neighbors\\_base.py\", line 111, in _get_weights\n",
      "    raise ValueError(\"weights not recognized: should be 'uniform', \"\n",
      "ValueError: weights not recognized: should be 'uniform', 'distance', or a callable function\n",
      "\n",
      "  warnings.warn(\n",
      "C:\\Users\\12619\\anaconda3\\lib\\site-packages\\sklearn\\model_selection\\_validation.py:683: UserWarning: Scoring failed. The score on this train-test partition for these parameters will be set to nan. Details: \n",
      "Traceback (most recent call last):\n",
      "  File \"C:\\Users\\12619\\anaconda3\\lib\\site-packages\\sklearn\\model_selection\\_validation.py\", line 674, in _score\n",
      "    scores = scorer(estimator, X_test, y_test)\n",
      "  File \"C:\\Users\\12619\\anaconda3\\lib\\site-packages\\sklearn\\metrics\\_scorer.py\", line 397, in _passthrough_scorer\n",
      "    return estimator.score(*args, **kwargs)\n",
      "  File \"C:\\Users\\12619\\anaconda3\\lib\\site-packages\\sklearn\\base.py\", line 500, in score\n",
      "    return accuracy_score(y, self.predict(X), sample_weight=sample_weight)\n",
      "  File \"C:\\Users\\12619\\anaconda3\\lib\\site-packages\\sklearn\\neighbors\\_classification.py\", line 206, in predict\n",
      "    weights = _get_weights(neigh_dist, self.weights)\n",
      "  File \"C:\\Users\\12619\\anaconda3\\lib\\site-packages\\sklearn\\neighbors\\_base.py\", line 111, in _get_weights\n",
      "    raise ValueError(\"weights not recognized: should be 'uniform', \"\n",
      "ValueError: weights not recognized: should be 'uniform', 'distance', or a callable function\n",
      "\n",
      "  warnings.warn(\n",
      "C:\\Users\\12619\\anaconda3\\lib\\site-packages\\sklearn\\model_selection\\_validation.py:683: UserWarning: Scoring failed. The score on this train-test partition for these parameters will be set to nan. Details: \n",
      "Traceback (most recent call last):\n",
      "  File \"C:\\Users\\12619\\anaconda3\\lib\\site-packages\\sklearn\\model_selection\\_validation.py\", line 674, in _score\n",
      "    scores = scorer(estimator, X_test, y_test)\n",
      "  File \"C:\\Users\\12619\\anaconda3\\lib\\site-packages\\sklearn\\metrics\\_scorer.py\", line 397, in _passthrough_scorer\n",
      "    return estimator.score(*args, **kwargs)\n",
      "  File \"C:\\Users\\12619\\anaconda3\\lib\\site-packages\\sklearn\\base.py\", line 500, in score\n",
      "    return accuracy_score(y, self.predict(X), sample_weight=sample_weight)\n",
      "  File \"C:\\Users\\12619\\anaconda3\\lib\\site-packages\\sklearn\\neighbors\\_classification.py\", line 206, in predict\n",
      "    weights = _get_weights(neigh_dist, self.weights)\n",
      "  File \"C:\\Users\\12619\\anaconda3\\lib\\site-packages\\sklearn\\neighbors\\_base.py\", line 111, in _get_weights\n",
      "    raise ValueError(\"weights not recognized: should be 'uniform', \"\n",
      "ValueError: weights not recognized: should be 'uniform', 'distance', or a callable function\n",
      "\n",
      "  warnings.warn(\n"
     ]
    },
    {
     "name": "stderr",
     "output_type": "stream",
     "text": [
      "C:\\Users\\12619\\anaconda3\\lib\\site-packages\\sklearn\\model_selection\\_validation.py:683: UserWarning: Scoring failed. The score on this train-test partition for these parameters will be set to nan. Details: \n",
      "Traceback (most recent call last):\n",
      "  File \"C:\\Users\\12619\\anaconda3\\lib\\site-packages\\sklearn\\model_selection\\_validation.py\", line 674, in _score\n",
      "    scores = scorer(estimator, X_test, y_test)\n",
      "  File \"C:\\Users\\12619\\anaconda3\\lib\\site-packages\\sklearn\\metrics\\_scorer.py\", line 397, in _passthrough_scorer\n",
      "    return estimator.score(*args, **kwargs)\n",
      "  File \"C:\\Users\\12619\\anaconda3\\lib\\site-packages\\sklearn\\base.py\", line 500, in score\n",
      "    return accuracy_score(y, self.predict(X), sample_weight=sample_weight)\n",
      "  File \"C:\\Users\\12619\\anaconda3\\lib\\site-packages\\sklearn\\neighbors\\_classification.py\", line 206, in predict\n",
      "    weights = _get_weights(neigh_dist, self.weights)\n",
      "  File \"C:\\Users\\12619\\anaconda3\\lib\\site-packages\\sklearn\\neighbors\\_base.py\", line 111, in _get_weights\n",
      "    raise ValueError(\"weights not recognized: should be 'uniform', \"\n",
      "ValueError: weights not recognized: should be 'uniform', 'distance', or a callable function\n",
      "\n",
      "  warnings.warn(\n",
      "C:\\Users\\12619\\anaconda3\\lib\\site-packages\\sklearn\\model_selection\\_validation.py:683: UserWarning: Scoring failed. The score on this train-test partition for these parameters will be set to nan. Details: \n",
      "Traceback (most recent call last):\n",
      "  File \"C:\\Users\\12619\\anaconda3\\lib\\site-packages\\sklearn\\model_selection\\_validation.py\", line 674, in _score\n",
      "    scores = scorer(estimator, X_test, y_test)\n",
      "  File \"C:\\Users\\12619\\anaconda3\\lib\\site-packages\\sklearn\\metrics\\_scorer.py\", line 397, in _passthrough_scorer\n",
      "    return estimator.score(*args, **kwargs)\n",
      "  File \"C:\\Users\\12619\\anaconda3\\lib\\site-packages\\sklearn\\base.py\", line 500, in score\n",
      "    return accuracy_score(y, self.predict(X), sample_weight=sample_weight)\n",
      "  File \"C:\\Users\\12619\\anaconda3\\lib\\site-packages\\sklearn\\neighbors\\_classification.py\", line 206, in predict\n",
      "    weights = _get_weights(neigh_dist, self.weights)\n",
      "  File \"C:\\Users\\12619\\anaconda3\\lib\\site-packages\\sklearn\\neighbors\\_base.py\", line 111, in _get_weights\n",
      "    raise ValueError(\"weights not recognized: should be 'uniform', \"\n",
      "ValueError: weights not recognized: should be 'uniform', 'distance', or a callable function\n",
      "\n",
      "  warnings.warn(\n",
      "C:\\Users\\12619\\anaconda3\\lib\\site-packages\\sklearn\\model_selection\\_validation.py:683: UserWarning: Scoring failed. The score on this train-test partition for these parameters will be set to nan. Details: \n",
      "Traceback (most recent call last):\n",
      "  File \"C:\\Users\\12619\\anaconda3\\lib\\site-packages\\sklearn\\model_selection\\_validation.py\", line 674, in _score\n",
      "    scores = scorer(estimator, X_test, y_test)\n",
      "  File \"C:\\Users\\12619\\anaconda3\\lib\\site-packages\\sklearn\\metrics\\_scorer.py\", line 397, in _passthrough_scorer\n",
      "    return estimator.score(*args, **kwargs)\n",
      "  File \"C:\\Users\\12619\\anaconda3\\lib\\site-packages\\sklearn\\base.py\", line 500, in score\n",
      "    return accuracy_score(y, self.predict(X), sample_weight=sample_weight)\n",
      "  File \"C:\\Users\\12619\\anaconda3\\lib\\site-packages\\sklearn\\neighbors\\_classification.py\", line 206, in predict\n",
      "    weights = _get_weights(neigh_dist, self.weights)\n",
      "  File \"C:\\Users\\12619\\anaconda3\\lib\\site-packages\\sklearn\\neighbors\\_base.py\", line 111, in _get_weights\n",
      "    raise ValueError(\"weights not recognized: should be 'uniform', \"\n",
      "ValueError: weights not recognized: should be 'uniform', 'distance', or a callable function\n",
      "\n",
      "  warnings.warn(\n",
      "C:\\Users\\12619\\anaconda3\\lib\\site-packages\\sklearn\\model_selection\\_validation.py:683: UserWarning: Scoring failed. The score on this train-test partition for these parameters will be set to nan. Details: \n",
      "Traceback (most recent call last):\n",
      "  File \"C:\\Users\\12619\\anaconda3\\lib\\site-packages\\sklearn\\model_selection\\_validation.py\", line 674, in _score\n",
      "    scores = scorer(estimator, X_test, y_test)\n",
      "  File \"C:\\Users\\12619\\anaconda3\\lib\\site-packages\\sklearn\\metrics\\_scorer.py\", line 397, in _passthrough_scorer\n",
      "    return estimator.score(*args, **kwargs)\n",
      "  File \"C:\\Users\\12619\\anaconda3\\lib\\site-packages\\sklearn\\base.py\", line 500, in score\n",
      "    return accuracy_score(y, self.predict(X), sample_weight=sample_weight)\n",
      "  File \"C:\\Users\\12619\\anaconda3\\lib\\site-packages\\sklearn\\neighbors\\_classification.py\", line 206, in predict\n",
      "    weights = _get_weights(neigh_dist, self.weights)\n",
      "  File \"C:\\Users\\12619\\anaconda3\\lib\\site-packages\\sklearn\\neighbors\\_base.py\", line 111, in _get_weights\n",
      "    raise ValueError(\"weights not recognized: should be 'uniform', \"\n",
      "ValueError: weights not recognized: should be 'uniform', 'distance', or a callable function\n",
      "\n",
      "  warnings.warn(\n",
      "C:\\Users\\12619\\anaconda3\\lib\\site-packages\\sklearn\\model_selection\\_validation.py:683: UserWarning: Scoring failed. The score on this train-test partition for these parameters will be set to nan. Details: \n",
      "Traceback (most recent call last):\n",
      "  File \"C:\\Users\\12619\\anaconda3\\lib\\site-packages\\sklearn\\model_selection\\_validation.py\", line 674, in _score\n",
      "    scores = scorer(estimator, X_test, y_test)\n",
      "  File \"C:\\Users\\12619\\anaconda3\\lib\\site-packages\\sklearn\\metrics\\_scorer.py\", line 397, in _passthrough_scorer\n",
      "    return estimator.score(*args, **kwargs)\n",
      "  File \"C:\\Users\\12619\\anaconda3\\lib\\site-packages\\sklearn\\base.py\", line 500, in score\n",
      "    return accuracy_score(y, self.predict(X), sample_weight=sample_weight)\n",
      "  File \"C:\\Users\\12619\\anaconda3\\lib\\site-packages\\sklearn\\neighbors\\_classification.py\", line 206, in predict\n",
      "    weights = _get_weights(neigh_dist, self.weights)\n",
      "  File \"C:\\Users\\12619\\anaconda3\\lib\\site-packages\\sklearn\\neighbors\\_base.py\", line 111, in _get_weights\n",
      "    raise ValueError(\"weights not recognized: should be 'uniform', \"\n",
      "ValueError: weights not recognized: should be 'uniform', 'distance', or a callable function\n",
      "\n",
      "  warnings.warn(\n",
      "C:\\Users\\12619\\anaconda3\\lib\\site-packages\\sklearn\\model_selection\\_validation.py:683: UserWarning: Scoring failed. The score on this train-test partition for these parameters will be set to nan. Details: \n",
      "Traceback (most recent call last):\n",
      "  File \"C:\\Users\\12619\\anaconda3\\lib\\site-packages\\sklearn\\model_selection\\_validation.py\", line 674, in _score\n",
      "    scores = scorer(estimator, X_test, y_test)\n",
      "  File \"C:\\Users\\12619\\anaconda3\\lib\\site-packages\\sklearn\\metrics\\_scorer.py\", line 397, in _passthrough_scorer\n",
      "    return estimator.score(*args, **kwargs)\n",
      "  File \"C:\\Users\\12619\\anaconda3\\lib\\site-packages\\sklearn\\base.py\", line 500, in score\n",
      "    return accuracy_score(y, self.predict(X), sample_weight=sample_weight)\n",
      "  File \"C:\\Users\\12619\\anaconda3\\lib\\site-packages\\sklearn\\neighbors\\_classification.py\", line 206, in predict\n",
      "    weights = _get_weights(neigh_dist, self.weights)\n",
      "  File \"C:\\Users\\12619\\anaconda3\\lib\\site-packages\\sklearn\\neighbors\\_base.py\", line 111, in _get_weights\n",
      "    raise ValueError(\"weights not recognized: should be 'uniform', \"\n",
      "ValueError: weights not recognized: should be 'uniform', 'distance', or a callable function\n",
      "\n",
      "  warnings.warn(\n",
      "C:\\Users\\12619\\anaconda3\\lib\\site-packages\\sklearn\\model_selection\\_validation.py:683: UserWarning: Scoring failed. The score on this train-test partition for these parameters will be set to nan. Details: \n",
      "Traceback (most recent call last):\n",
      "  File \"C:\\Users\\12619\\anaconda3\\lib\\site-packages\\sklearn\\model_selection\\_validation.py\", line 674, in _score\n",
      "    scores = scorer(estimator, X_test, y_test)\n",
      "  File \"C:\\Users\\12619\\anaconda3\\lib\\site-packages\\sklearn\\metrics\\_scorer.py\", line 397, in _passthrough_scorer\n",
      "    return estimator.score(*args, **kwargs)\n",
      "  File \"C:\\Users\\12619\\anaconda3\\lib\\site-packages\\sklearn\\base.py\", line 500, in score\n",
      "    return accuracy_score(y, self.predict(X), sample_weight=sample_weight)\n",
      "  File \"C:\\Users\\12619\\anaconda3\\lib\\site-packages\\sklearn\\neighbors\\_classification.py\", line 206, in predict\n",
      "    weights = _get_weights(neigh_dist, self.weights)\n",
      "  File \"C:\\Users\\12619\\anaconda3\\lib\\site-packages\\sklearn\\neighbors\\_base.py\", line 111, in _get_weights\n",
      "    raise ValueError(\"weights not recognized: should be 'uniform', \"\n",
      "ValueError: weights not recognized: should be 'uniform', 'distance', or a callable function\n",
      "\n",
      "  warnings.warn(\n",
      "C:\\Users\\12619\\anaconda3\\lib\\site-packages\\sklearn\\model_selection\\_validation.py:683: UserWarning: Scoring failed. The score on this train-test partition for these parameters will be set to nan. Details: \n",
      "Traceback (most recent call last):\n",
      "  File \"C:\\Users\\12619\\anaconda3\\lib\\site-packages\\sklearn\\model_selection\\_validation.py\", line 674, in _score\n",
      "    scores = scorer(estimator, X_test, y_test)\n",
      "  File \"C:\\Users\\12619\\anaconda3\\lib\\site-packages\\sklearn\\metrics\\_scorer.py\", line 397, in _passthrough_scorer\n",
      "    return estimator.score(*args, **kwargs)\n",
      "  File \"C:\\Users\\12619\\anaconda3\\lib\\site-packages\\sklearn\\base.py\", line 500, in score\n",
      "    return accuracy_score(y, self.predict(X), sample_weight=sample_weight)\n",
      "  File \"C:\\Users\\12619\\anaconda3\\lib\\site-packages\\sklearn\\neighbors\\_classification.py\", line 206, in predict\n",
      "    weights = _get_weights(neigh_dist, self.weights)\n",
      "  File \"C:\\Users\\12619\\anaconda3\\lib\\site-packages\\sklearn\\neighbors\\_base.py\", line 111, in _get_weights\n",
      "    raise ValueError(\"weights not recognized: should be 'uniform', \"\n",
      "ValueError: weights not recognized: should be 'uniform', 'distance', or a callable function\n",
      "\n",
      "  warnings.warn(\n"
     ]
    },
    {
     "name": "stderr",
     "output_type": "stream",
     "text": [
      "C:\\Users\\12619\\anaconda3\\lib\\site-packages\\sklearn\\model_selection\\_validation.py:683: UserWarning: Scoring failed. The score on this train-test partition for these parameters will be set to nan. Details: \n",
      "Traceback (most recent call last):\n",
      "  File \"C:\\Users\\12619\\anaconda3\\lib\\site-packages\\sklearn\\model_selection\\_validation.py\", line 674, in _score\n",
      "    scores = scorer(estimator, X_test, y_test)\n",
      "  File \"C:\\Users\\12619\\anaconda3\\lib\\site-packages\\sklearn\\metrics\\_scorer.py\", line 397, in _passthrough_scorer\n",
      "    return estimator.score(*args, **kwargs)\n",
      "  File \"C:\\Users\\12619\\anaconda3\\lib\\site-packages\\sklearn\\base.py\", line 500, in score\n",
      "    return accuracy_score(y, self.predict(X), sample_weight=sample_weight)\n",
      "  File \"C:\\Users\\12619\\anaconda3\\lib\\site-packages\\sklearn\\neighbors\\_classification.py\", line 206, in predict\n",
      "    weights = _get_weights(neigh_dist, self.weights)\n",
      "  File \"C:\\Users\\12619\\anaconda3\\lib\\site-packages\\sklearn\\neighbors\\_base.py\", line 111, in _get_weights\n",
      "    raise ValueError(\"weights not recognized: should be 'uniform', \"\n",
      "ValueError: weights not recognized: should be 'uniform', 'distance', or a callable function\n",
      "\n",
      "  warnings.warn(\n",
      "C:\\Users\\12619\\anaconda3\\lib\\site-packages\\sklearn\\model_selection\\_validation.py:683: UserWarning: Scoring failed. The score on this train-test partition for these parameters will be set to nan. Details: \n",
      "Traceback (most recent call last):\n",
      "  File \"C:\\Users\\12619\\anaconda3\\lib\\site-packages\\sklearn\\model_selection\\_validation.py\", line 674, in _score\n",
      "    scores = scorer(estimator, X_test, y_test)\n",
      "  File \"C:\\Users\\12619\\anaconda3\\lib\\site-packages\\sklearn\\metrics\\_scorer.py\", line 397, in _passthrough_scorer\n",
      "    return estimator.score(*args, **kwargs)\n",
      "  File \"C:\\Users\\12619\\anaconda3\\lib\\site-packages\\sklearn\\base.py\", line 500, in score\n",
      "    return accuracy_score(y, self.predict(X), sample_weight=sample_weight)\n",
      "  File \"C:\\Users\\12619\\anaconda3\\lib\\site-packages\\sklearn\\neighbors\\_classification.py\", line 206, in predict\n",
      "    weights = _get_weights(neigh_dist, self.weights)\n",
      "  File \"C:\\Users\\12619\\anaconda3\\lib\\site-packages\\sklearn\\neighbors\\_base.py\", line 111, in _get_weights\n",
      "    raise ValueError(\"weights not recognized: should be 'uniform', \"\n",
      "ValueError: weights not recognized: should be 'uniform', 'distance', or a callable function\n",
      "\n",
      "  warnings.warn(\n",
      "C:\\Users\\12619\\anaconda3\\lib\\site-packages\\sklearn\\model_selection\\_validation.py:683: UserWarning: Scoring failed. The score on this train-test partition for these parameters will be set to nan. Details: \n",
      "Traceback (most recent call last):\n",
      "  File \"C:\\Users\\12619\\anaconda3\\lib\\site-packages\\sklearn\\model_selection\\_validation.py\", line 674, in _score\n",
      "    scores = scorer(estimator, X_test, y_test)\n",
      "  File \"C:\\Users\\12619\\anaconda3\\lib\\site-packages\\sklearn\\metrics\\_scorer.py\", line 397, in _passthrough_scorer\n",
      "    return estimator.score(*args, **kwargs)\n",
      "  File \"C:\\Users\\12619\\anaconda3\\lib\\site-packages\\sklearn\\base.py\", line 500, in score\n",
      "    return accuracy_score(y, self.predict(X), sample_weight=sample_weight)\n",
      "  File \"C:\\Users\\12619\\anaconda3\\lib\\site-packages\\sklearn\\neighbors\\_classification.py\", line 206, in predict\n",
      "    weights = _get_weights(neigh_dist, self.weights)\n",
      "  File \"C:\\Users\\12619\\anaconda3\\lib\\site-packages\\sklearn\\neighbors\\_base.py\", line 111, in _get_weights\n",
      "    raise ValueError(\"weights not recognized: should be 'uniform', \"\n",
      "ValueError: weights not recognized: should be 'uniform', 'distance', or a callable function\n",
      "\n",
      "  warnings.warn(\n",
      "C:\\Users\\12619\\anaconda3\\lib\\site-packages\\sklearn\\model_selection\\_validation.py:683: UserWarning: Scoring failed. The score on this train-test partition for these parameters will be set to nan. Details: \n",
      "Traceback (most recent call last):\n",
      "  File \"C:\\Users\\12619\\anaconda3\\lib\\site-packages\\sklearn\\model_selection\\_validation.py\", line 674, in _score\n",
      "    scores = scorer(estimator, X_test, y_test)\n",
      "  File \"C:\\Users\\12619\\anaconda3\\lib\\site-packages\\sklearn\\metrics\\_scorer.py\", line 397, in _passthrough_scorer\n",
      "    return estimator.score(*args, **kwargs)\n",
      "  File \"C:\\Users\\12619\\anaconda3\\lib\\site-packages\\sklearn\\base.py\", line 500, in score\n",
      "    return accuracy_score(y, self.predict(X), sample_weight=sample_weight)\n",
      "  File \"C:\\Users\\12619\\anaconda3\\lib\\site-packages\\sklearn\\neighbors\\_classification.py\", line 206, in predict\n",
      "    weights = _get_weights(neigh_dist, self.weights)\n",
      "  File \"C:\\Users\\12619\\anaconda3\\lib\\site-packages\\sklearn\\neighbors\\_base.py\", line 111, in _get_weights\n",
      "    raise ValueError(\"weights not recognized: should be 'uniform', \"\n",
      "ValueError: weights not recognized: should be 'uniform', 'distance', or a callable function\n",
      "\n",
      "  warnings.warn(\n",
      "C:\\Users\\12619\\anaconda3\\lib\\site-packages\\sklearn\\model_selection\\_validation.py:683: UserWarning: Scoring failed. The score on this train-test partition for these parameters will be set to nan. Details: \n",
      "Traceback (most recent call last):\n",
      "  File \"C:\\Users\\12619\\anaconda3\\lib\\site-packages\\sklearn\\model_selection\\_validation.py\", line 674, in _score\n",
      "    scores = scorer(estimator, X_test, y_test)\n",
      "  File \"C:\\Users\\12619\\anaconda3\\lib\\site-packages\\sklearn\\metrics\\_scorer.py\", line 397, in _passthrough_scorer\n",
      "    return estimator.score(*args, **kwargs)\n",
      "  File \"C:\\Users\\12619\\anaconda3\\lib\\site-packages\\sklearn\\base.py\", line 500, in score\n",
      "    return accuracy_score(y, self.predict(X), sample_weight=sample_weight)\n",
      "  File \"C:\\Users\\12619\\anaconda3\\lib\\site-packages\\sklearn\\neighbors\\_classification.py\", line 206, in predict\n",
      "    weights = _get_weights(neigh_dist, self.weights)\n",
      "  File \"C:\\Users\\12619\\anaconda3\\lib\\site-packages\\sklearn\\neighbors\\_base.py\", line 111, in _get_weights\n",
      "    raise ValueError(\"weights not recognized: should be 'uniform', \"\n",
      "ValueError: weights not recognized: should be 'uniform', 'distance', or a callable function\n",
      "\n",
      "  warnings.warn(\n",
      "C:\\Users\\12619\\anaconda3\\lib\\site-packages\\sklearn\\model_selection\\_validation.py:683: UserWarning: Scoring failed. The score on this train-test partition for these parameters will be set to nan. Details: \n",
      "Traceback (most recent call last):\n",
      "  File \"C:\\Users\\12619\\anaconda3\\lib\\site-packages\\sklearn\\model_selection\\_validation.py\", line 674, in _score\n",
      "    scores = scorer(estimator, X_test, y_test)\n",
      "  File \"C:\\Users\\12619\\anaconda3\\lib\\site-packages\\sklearn\\metrics\\_scorer.py\", line 397, in _passthrough_scorer\n",
      "    return estimator.score(*args, **kwargs)\n",
      "  File \"C:\\Users\\12619\\anaconda3\\lib\\site-packages\\sklearn\\base.py\", line 500, in score\n",
      "    return accuracy_score(y, self.predict(X), sample_weight=sample_weight)\n",
      "  File \"C:\\Users\\12619\\anaconda3\\lib\\site-packages\\sklearn\\neighbors\\_classification.py\", line 206, in predict\n",
      "    weights = _get_weights(neigh_dist, self.weights)\n",
      "  File \"C:\\Users\\12619\\anaconda3\\lib\\site-packages\\sklearn\\neighbors\\_base.py\", line 111, in _get_weights\n",
      "    raise ValueError(\"weights not recognized: should be 'uniform', \"\n",
      "ValueError: weights not recognized: should be 'uniform', 'distance', or a callable function\n",
      "\n",
      "  warnings.warn(\n",
      "C:\\Users\\12619\\anaconda3\\lib\\site-packages\\sklearn\\model_selection\\_validation.py:683: UserWarning: Scoring failed. The score on this train-test partition for these parameters will be set to nan. Details: \n",
      "Traceback (most recent call last):\n",
      "  File \"C:\\Users\\12619\\anaconda3\\lib\\site-packages\\sklearn\\model_selection\\_validation.py\", line 674, in _score\n",
      "    scores = scorer(estimator, X_test, y_test)\n",
      "  File \"C:\\Users\\12619\\anaconda3\\lib\\site-packages\\sklearn\\metrics\\_scorer.py\", line 397, in _passthrough_scorer\n",
      "    return estimator.score(*args, **kwargs)\n",
      "  File \"C:\\Users\\12619\\anaconda3\\lib\\site-packages\\sklearn\\base.py\", line 500, in score\n",
      "    return accuracy_score(y, self.predict(X), sample_weight=sample_weight)\n",
      "  File \"C:\\Users\\12619\\anaconda3\\lib\\site-packages\\sklearn\\neighbors\\_classification.py\", line 206, in predict\n",
      "    weights = _get_weights(neigh_dist, self.weights)\n",
      "  File \"C:\\Users\\12619\\anaconda3\\lib\\site-packages\\sklearn\\neighbors\\_base.py\", line 111, in _get_weights\n",
      "    raise ValueError(\"weights not recognized: should be 'uniform', \"\n",
      "ValueError: weights not recognized: should be 'uniform', 'distance', or a callable function\n",
      "\n",
      "  warnings.warn(\n",
      "C:\\Users\\12619\\anaconda3\\lib\\site-packages\\sklearn\\model_selection\\_validation.py:683: UserWarning: Scoring failed. The score on this train-test partition for these parameters will be set to nan. Details: \n",
      "Traceback (most recent call last):\n",
      "  File \"C:\\Users\\12619\\anaconda3\\lib\\site-packages\\sklearn\\model_selection\\_validation.py\", line 674, in _score\n",
      "    scores = scorer(estimator, X_test, y_test)\n",
      "  File \"C:\\Users\\12619\\anaconda3\\lib\\site-packages\\sklearn\\metrics\\_scorer.py\", line 397, in _passthrough_scorer\n",
      "    return estimator.score(*args, **kwargs)\n",
      "  File \"C:\\Users\\12619\\anaconda3\\lib\\site-packages\\sklearn\\base.py\", line 500, in score\n",
      "    return accuracy_score(y, self.predict(X), sample_weight=sample_weight)\n",
      "  File \"C:\\Users\\12619\\anaconda3\\lib\\site-packages\\sklearn\\neighbors\\_classification.py\", line 206, in predict\n",
      "    weights = _get_weights(neigh_dist, self.weights)\n",
      "  File \"C:\\Users\\12619\\anaconda3\\lib\\site-packages\\sklearn\\neighbors\\_base.py\", line 111, in _get_weights\n",
      "    raise ValueError(\"weights not recognized: should be 'uniform', \"\n",
      "ValueError: weights not recognized: should be 'uniform', 'distance', or a callable function\n",
      "\n",
      "  warnings.warn(\n",
      "C:\\Users\\12619\\anaconda3\\lib\\site-packages\\sklearn\\model_selection\\_validation.py:683: UserWarning: Scoring failed. The score on this train-test partition for these parameters will be set to nan. Details: \n",
      "Traceback (most recent call last):\n",
      "  File \"C:\\Users\\12619\\anaconda3\\lib\\site-packages\\sklearn\\model_selection\\_validation.py\", line 674, in _score\n",
      "    scores = scorer(estimator, X_test, y_test)\n",
      "  File \"C:\\Users\\12619\\anaconda3\\lib\\site-packages\\sklearn\\metrics\\_scorer.py\", line 397, in _passthrough_scorer\n",
      "    return estimator.score(*args, **kwargs)\n",
      "  File \"C:\\Users\\12619\\anaconda3\\lib\\site-packages\\sklearn\\base.py\", line 500, in score\n",
      "    return accuracy_score(y, self.predict(X), sample_weight=sample_weight)\n",
      "  File \"C:\\Users\\12619\\anaconda3\\lib\\site-packages\\sklearn\\neighbors\\_classification.py\", line 206, in predict\n",
      "    weights = _get_weights(neigh_dist, self.weights)\n",
      "  File \"C:\\Users\\12619\\anaconda3\\lib\\site-packages\\sklearn\\neighbors\\_base.py\", line 111, in _get_weights\n",
      "    raise ValueError(\"weights not recognized: should be 'uniform', \"\n",
      "ValueError: weights not recognized: should be 'uniform', 'distance', or a callable function\n",
      "\n",
      "  warnings.warn(\n",
      "C:\\Users\\12619\\anaconda3\\lib\\site-packages\\sklearn\\model_selection\\_validation.py:683: UserWarning: Scoring failed. The score on this train-test partition for these parameters will be set to nan. Details: \n",
      "Traceback (most recent call last):\n",
      "  File \"C:\\Users\\12619\\anaconda3\\lib\\site-packages\\sklearn\\model_selection\\_validation.py\", line 674, in _score\n",
      "    scores = scorer(estimator, X_test, y_test)\n",
      "  File \"C:\\Users\\12619\\anaconda3\\lib\\site-packages\\sklearn\\metrics\\_scorer.py\", line 397, in _passthrough_scorer\n",
      "    return estimator.score(*args, **kwargs)\n",
      "  File \"C:\\Users\\12619\\anaconda3\\lib\\site-packages\\sklearn\\base.py\", line 500, in score\n",
      "    return accuracy_score(y, self.predict(X), sample_weight=sample_weight)\n",
      "  File \"C:\\Users\\12619\\anaconda3\\lib\\site-packages\\sklearn\\neighbors\\_classification.py\", line 206, in predict\n",
      "    weights = _get_weights(neigh_dist, self.weights)\n",
      "  File \"C:\\Users\\12619\\anaconda3\\lib\\site-packages\\sklearn\\neighbors\\_base.py\", line 111, in _get_weights\n",
      "    raise ValueError(\"weights not recognized: should be 'uniform', \"\n",
      "ValueError: weights not recognized: should be 'uniform', 'distance', or a callable function\n",
      "\n",
      "  warnings.warn(\n",
      "C:\\Users\\12619\\anaconda3\\lib\\site-packages\\sklearn\\model_selection\\_validation.py:683: UserWarning: Scoring failed. The score on this train-test partition for these parameters will be set to nan. Details: \n",
      "Traceback (most recent call last):\n",
      "  File \"C:\\Users\\12619\\anaconda3\\lib\\site-packages\\sklearn\\model_selection\\_validation.py\", line 674, in _score\n",
      "    scores = scorer(estimator, X_test, y_test)\n",
      "  File \"C:\\Users\\12619\\anaconda3\\lib\\site-packages\\sklearn\\metrics\\_scorer.py\", line 397, in _passthrough_scorer\n",
      "    return estimator.score(*args, **kwargs)\n",
      "  File \"C:\\Users\\12619\\anaconda3\\lib\\site-packages\\sklearn\\base.py\", line 500, in score\n",
      "    return accuracy_score(y, self.predict(X), sample_weight=sample_weight)\n",
      "  File \"C:\\Users\\12619\\anaconda3\\lib\\site-packages\\sklearn\\neighbors\\_classification.py\", line 206, in predict\n",
      "    weights = _get_weights(neigh_dist, self.weights)\n",
      "  File \"C:\\Users\\12619\\anaconda3\\lib\\site-packages\\sklearn\\neighbors\\_base.py\", line 111, in _get_weights\n",
      "    raise ValueError(\"weights not recognized: should be 'uniform', \"\n",
      "ValueError: weights not recognized: should be 'uniform', 'distance', or a callable function\n",
      "\n",
      "  warnings.warn(\n",
      "C:\\Users\\12619\\anaconda3\\lib\\site-packages\\sklearn\\model_selection\\_validation.py:683: UserWarning: Scoring failed. The score on this train-test partition for these parameters will be set to nan. Details: \n",
      "Traceback (most recent call last):\n",
      "  File \"C:\\Users\\12619\\anaconda3\\lib\\site-packages\\sklearn\\model_selection\\_validation.py\", line 674, in _score\n",
      "    scores = scorer(estimator, X_test, y_test)\n",
      "  File \"C:\\Users\\12619\\anaconda3\\lib\\site-packages\\sklearn\\metrics\\_scorer.py\", line 397, in _passthrough_scorer\n",
      "    return estimator.score(*args, **kwargs)\n",
      "  File \"C:\\Users\\12619\\anaconda3\\lib\\site-packages\\sklearn\\base.py\", line 500, in score\n",
      "    return accuracy_score(y, self.predict(X), sample_weight=sample_weight)\n",
      "  File \"C:\\Users\\12619\\anaconda3\\lib\\site-packages\\sklearn\\neighbors\\_classification.py\", line 206, in predict\n",
      "    weights = _get_weights(neigh_dist, self.weights)\n",
      "  File \"C:\\Users\\12619\\anaconda3\\lib\\site-packages\\sklearn\\neighbors\\_base.py\", line 111, in _get_weights\n",
      "    raise ValueError(\"weights not recognized: should be 'uniform', \"\n",
      "ValueError: weights not recognized: should be 'uniform', 'distance', or a callable function\n",
      "\n",
      "  warnings.warn(\n",
      "C:\\Users\\12619\\anaconda3\\lib\\site-packages\\sklearn\\model_selection\\_validation.py:683: UserWarning: Scoring failed. The score on this train-test partition for these parameters will be set to nan. Details: \n",
      "Traceback (most recent call last):\n",
      "  File \"C:\\Users\\12619\\anaconda3\\lib\\site-packages\\sklearn\\model_selection\\_validation.py\", line 674, in _score\n",
      "    scores = scorer(estimator, X_test, y_test)\n",
      "  File \"C:\\Users\\12619\\anaconda3\\lib\\site-packages\\sklearn\\metrics\\_scorer.py\", line 397, in _passthrough_scorer\n",
      "    return estimator.score(*args, **kwargs)\n",
      "  File \"C:\\Users\\12619\\anaconda3\\lib\\site-packages\\sklearn\\base.py\", line 500, in score\n",
      "    return accuracy_score(y, self.predict(X), sample_weight=sample_weight)\n",
      "  File \"C:\\Users\\12619\\anaconda3\\lib\\site-packages\\sklearn\\neighbors\\_classification.py\", line 206, in predict\n",
      "    weights = _get_weights(neigh_dist, self.weights)\n",
      "  File \"C:\\Users\\12619\\anaconda3\\lib\\site-packages\\sklearn\\neighbors\\_base.py\", line 111, in _get_weights\n",
      "    raise ValueError(\"weights not recognized: should be 'uniform', \"\n",
      "ValueError: weights not recognized: should be 'uniform', 'distance', or a callable function\n",
      "\n",
      "  warnings.warn(\n",
      "C:\\Users\\12619\\anaconda3\\lib\\site-packages\\sklearn\\model_selection\\_validation.py:683: UserWarning: Scoring failed. The score on this train-test partition for these parameters will be set to nan. Details: \n",
      "Traceback (most recent call last):\n",
      "  File \"C:\\Users\\12619\\anaconda3\\lib\\site-packages\\sklearn\\model_selection\\_validation.py\", line 674, in _score\n",
      "    scores = scorer(estimator, X_test, y_test)\n",
      "  File \"C:\\Users\\12619\\anaconda3\\lib\\site-packages\\sklearn\\metrics\\_scorer.py\", line 397, in _passthrough_scorer\n",
      "    return estimator.score(*args, **kwargs)\n",
      "  File \"C:\\Users\\12619\\anaconda3\\lib\\site-packages\\sklearn\\base.py\", line 500, in score\n",
      "    return accuracy_score(y, self.predict(X), sample_weight=sample_weight)\n",
      "  File \"C:\\Users\\12619\\anaconda3\\lib\\site-packages\\sklearn\\neighbors\\_classification.py\", line 206, in predict\n",
      "    weights = _get_weights(neigh_dist, self.weights)\n",
      "  File \"C:\\Users\\12619\\anaconda3\\lib\\site-packages\\sklearn\\neighbors\\_base.py\", line 111, in _get_weights\n",
      "    raise ValueError(\"weights not recognized: should be 'uniform', \"\n",
      "ValueError: weights not recognized: should be 'uniform', 'distance', or a callable function\n",
      "\n",
      "  warnings.warn(\n",
      "C:\\Users\\12619\\anaconda3\\lib\\site-packages\\sklearn\\model_selection\\_validation.py:683: UserWarning: Scoring failed. The score on this train-test partition for these parameters will be set to nan. Details: \n",
      "Traceback (most recent call last):\n",
      "  File \"C:\\Users\\12619\\anaconda3\\lib\\site-packages\\sklearn\\model_selection\\_validation.py\", line 674, in _score\n",
      "    scores = scorer(estimator, X_test, y_test)\n",
      "  File \"C:\\Users\\12619\\anaconda3\\lib\\site-packages\\sklearn\\metrics\\_scorer.py\", line 397, in _passthrough_scorer\n",
      "    return estimator.score(*args, **kwargs)\n",
      "  File \"C:\\Users\\12619\\anaconda3\\lib\\site-packages\\sklearn\\base.py\", line 500, in score\n",
      "    return accuracy_score(y, self.predict(X), sample_weight=sample_weight)\n",
      "  File \"C:\\Users\\12619\\anaconda3\\lib\\site-packages\\sklearn\\neighbors\\_classification.py\", line 206, in predict\n",
      "    weights = _get_weights(neigh_dist, self.weights)\n",
      "  File \"C:\\Users\\12619\\anaconda3\\lib\\site-packages\\sklearn\\neighbors\\_base.py\", line 111, in _get_weights\n",
      "    raise ValueError(\"weights not recognized: should be 'uniform', \"\n",
      "ValueError: weights not recognized: should be 'uniform', 'distance', or a callable function\n",
      "\n",
      "  warnings.warn(\n",
      "C:\\Users\\12619\\anaconda3\\lib\\site-packages\\sklearn\\model_selection\\_validation.py:683: UserWarning: Scoring failed. The score on this train-test partition for these parameters will be set to nan. Details: \n",
      "Traceback (most recent call last):\n",
      "  File \"C:\\Users\\12619\\anaconda3\\lib\\site-packages\\sklearn\\model_selection\\_validation.py\", line 674, in _score\n",
      "    scores = scorer(estimator, X_test, y_test)\n",
      "  File \"C:\\Users\\12619\\anaconda3\\lib\\site-packages\\sklearn\\metrics\\_scorer.py\", line 397, in _passthrough_scorer\n",
      "    return estimator.score(*args, **kwargs)\n",
      "  File \"C:\\Users\\12619\\anaconda3\\lib\\site-packages\\sklearn\\base.py\", line 500, in score\n",
      "    return accuracy_score(y, self.predict(X), sample_weight=sample_weight)\n",
      "  File \"C:\\Users\\12619\\anaconda3\\lib\\site-packages\\sklearn\\neighbors\\_classification.py\", line 206, in predict\n",
      "    weights = _get_weights(neigh_dist, self.weights)\n",
      "  File \"C:\\Users\\12619\\anaconda3\\lib\\site-packages\\sklearn\\neighbors\\_base.py\", line 111, in _get_weights\n",
      "    raise ValueError(\"weights not recognized: should be 'uniform', \"\n",
      "ValueError: weights not recognized: should be 'uniform', 'distance', or a callable function\n",
      "\n",
      "  warnings.warn(\n",
      "C:\\Users\\12619\\anaconda3\\lib\\site-packages\\sklearn\\model_selection\\_validation.py:683: UserWarning: Scoring failed. The score on this train-test partition for these parameters will be set to nan. Details: \n",
      "Traceback (most recent call last):\n",
      "  File \"C:\\Users\\12619\\anaconda3\\lib\\site-packages\\sklearn\\model_selection\\_validation.py\", line 674, in _score\n",
      "    scores = scorer(estimator, X_test, y_test)\n",
      "  File \"C:\\Users\\12619\\anaconda3\\lib\\site-packages\\sklearn\\metrics\\_scorer.py\", line 397, in _passthrough_scorer\n",
      "    return estimator.score(*args, **kwargs)\n",
      "  File \"C:\\Users\\12619\\anaconda3\\lib\\site-packages\\sklearn\\base.py\", line 500, in score\n",
      "    return accuracy_score(y, self.predict(X), sample_weight=sample_weight)\n",
      "  File \"C:\\Users\\12619\\anaconda3\\lib\\site-packages\\sklearn\\neighbors\\_classification.py\", line 206, in predict\n",
      "    weights = _get_weights(neigh_dist, self.weights)\n",
      "  File \"C:\\Users\\12619\\anaconda3\\lib\\site-packages\\sklearn\\neighbors\\_base.py\", line 111, in _get_weights\n",
      "    raise ValueError(\"weights not recognized: should be 'uniform', \"\n",
      "ValueError: weights not recognized: should be 'uniform', 'distance', or a callable function\n",
      "\n",
      "  warnings.warn(\n"
     ]
    },
    {
     "name": "stderr",
     "output_type": "stream",
     "text": [
      "C:\\Users\\12619\\anaconda3\\lib\\site-packages\\sklearn\\model_selection\\_validation.py:683: UserWarning: Scoring failed. The score on this train-test partition for these parameters will be set to nan. Details: \n",
      "Traceback (most recent call last):\n",
      "  File \"C:\\Users\\12619\\anaconda3\\lib\\site-packages\\sklearn\\model_selection\\_validation.py\", line 674, in _score\n",
      "    scores = scorer(estimator, X_test, y_test)\n",
      "  File \"C:\\Users\\12619\\anaconda3\\lib\\site-packages\\sklearn\\metrics\\_scorer.py\", line 397, in _passthrough_scorer\n",
      "    return estimator.score(*args, **kwargs)\n",
      "  File \"C:\\Users\\12619\\anaconda3\\lib\\site-packages\\sklearn\\base.py\", line 500, in score\n",
      "    return accuracy_score(y, self.predict(X), sample_weight=sample_weight)\n",
      "  File \"C:\\Users\\12619\\anaconda3\\lib\\site-packages\\sklearn\\neighbors\\_classification.py\", line 206, in predict\n",
      "    weights = _get_weights(neigh_dist, self.weights)\n",
      "  File \"C:\\Users\\12619\\anaconda3\\lib\\site-packages\\sklearn\\neighbors\\_base.py\", line 111, in _get_weights\n",
      "    raise ValueError(\"weights not recognized: should be 'uniform', \"\n",
      "ValueError: weights not recognized: should be 'uniform', 'distance', or a callable function\n",
      "\n",
      "  warnings.warn(\n",
      "C:\\Users\\12619\\anaconda3\\lib\\site-packages\\sklearn\\model_selection\\_validation.py:683: UserWarning: Scoring failed. The score on this train-test partition for these parameters will be set to nan. Details: \n",
      "Traceback (most recent call last):\n",
      "  File \"C:\\Users\\12619\\anaconda3\\lib\\site-packages\\sklearn\\model_selection\\_validation.py\", line 674, in _score\n",
      "    scores = scorer(estimator, X_test, y_test)\n",
      "  File \"C:\\Users\\12619\\anaconda3\\lib\\site-packages\\sklearn\\metrics\\_scorer.py\", line 397, in _passthrough_scorer\n",
      "    return estimator.score(*args, **kwargs)\n",
      "  File \"C:\\Users\\12619\\anaconda3\\lib\\site-packages\\sklearn\\base.py\", line 500, in score\n",
      "    return accuracy_score(y, self.predict(X), sample_weight=sample_weight)\n",
      "  File \"C:\\Users\\12619\\anaconda3\\lib\\site-packages\\sklearn\\neighbors\\_classification.py\", line 206, in predict\n",
      "    weights = _get_weights(neigh_dist, self.weights)\n",
      "  File \"C:\\Users\\12619\\anaconda3\\lib\\site-packages\\sklearn\\neighbors\\_base.py\", line 111, in _get_weights\n",
      "    raise ValueError(\"weights not recognized: should be 'uniform', \"\n",
      "ValueError: weights not recognized: should be 'uniform', 'distance', or a callable function\n",
      "\n",
      "  warnings.warn(\n",
      "C:\\Users\\12619\\anaconda3\\lib\\site-packages\\sklearn\\model_selection\\_validation.py:683: UserWarning: Scoring failed. The score on this train-test partition for these parameters will be set to nan. Details: \n",
      "Traceback (most recent call last):\n",
      "  File \"C:\\Users\\12619\\anaconda3\\lib\\site-packages\\sklearn\\model_selection\\_validation.py\", line 674, in _score\n",
      "    scores = scorer(estimator, X_test, y_test)\n",
      "  File \"C:\\Users\\12619\\anaconda3\\lib\\site-packages\\sklearn\\metrics\\_scorer.py\", line 397, in _passthrough_scorer\n",
      "    return estimator.score(*args, **kwargs)\n",
      "  File \"C:\\Users\\12619\\anaconda3\\lib\\site-packages\\sklearn\\base.py\", line 500, in score\n",
      "    return accuracy_score(y, self.predict(X), sample_weight=sample_weight)\n",
      "  File \"C:\\Users\\12619\\anaconda3\\lib\\site-packages\\sklearn\\neighbors\\_classification.py\", line 206, in predict\n",
      "    weights = _get_weights(neigh_dist, self.weights)\n",
      "  File \"C:\\Users\\12619\\anaconda3\\lib\\site-packages\\sklearn\\neighbors\\_base.py\", line 111, in _get_weights\n",
      "    raise ValueError(\"weights not recognized: should be 'uniform', \"\n",
      "ValueError: weights not recognized: should be 'uniform', 'distance', or a callable function\n",
      "\n",
      "  warnings.warn(\n",
      "C:\\Users\\12619\\anaconda3\\lib\\site-packages\\sklearn\\model_selection\\_validation.py:683: UserWarning: Scoring failed. The score on this train-test partition for these parameters will be set to nan. Details: \n",
      "Traceback (most recent call last):\n",
      "  File \"C:\\Users\\12619\\anaconda3\\lib\\site-packages\\sklearn\\model_selection\\_validation.py\", line 674, in _score\n",
      "    scores = scorer(estimator, X_test, y_test)\n",
      "  File \"C:\\Users\\12619\\anaconda3\\lib\\site-packages\\sklearn\\metrics\\_scorer.py\", line 397, in _passthrough_scorer\n",
      "    return estimator.score(*args, **kwargs)\n",
      "  File \"C:\\Users\\12619\\anaconda3\\lib\\site-packages\\sklearn\\base.py\", line 500, in score\n",
      "    return accuracy_score(y, self.predict(X), sample_weight=sample_weight)\n",
      "  File \"C:\\Users\\12619\\anaconda3\\lib\\site-packages\\sklearn\\neighbors\\_classification.py\", line 206, in predict\n",
      "    weights = _get_weights(neigh_dist, self.weights)\n",
      "  File \"C:\\Users\\12619\\anaconda3\\lib\\site-packages\\sklearn\\neighbors\\_base.py\", line 111, in _get_weights\n",
      "    raise ValueError(\"weights not recognized: should be 'uniform', \"\n",
      "ValueError: weights not recognized: should be 'uniform', 'distance', or a callable function\n",
      "\n",
      "  warnings.warn(\n",
      "C:\\Users\\12619\\anaconda3\\lib\\site-packages\\sklearn\\model_selection\\_validation.py:683: UserWarning: Scoring failed. The score on this train-test partition for these parameters will be set to nan. Details: \n",
      "Traceback (most recent call last):\n",
      "  File \"C:\\Users\\12619\\anaconda3\\lib\\site-packages\\sklearn\\model_selection\\_validation.py\", line 674, in _score\n",
      "    scores = scorer(estimator, X_test, y_test)\n",
      "  File \"C:\\Users\\12619\\anaconda3\\lib\\site-packages\\sklearn\\metrics\\_scorer.py\", line 397, in _passthrough_scorer\n",
      "    return estimator.score(*args, **kwargs)\n",
      "  File \"C:\\Users\\12619\\anaconda3\\lib\\site-packages\\sklearn\\base.py\", line 500, in score\n",
      "    return accuracy_score(y, self.predict(X), sample_weight=sample_weight)\n",
      "  File \"C:\\Users\\12619\\anaconda3\\lib\\site-packages\\sklearn\\neighbors\\_classification.py\", line 206, in predict\n",
      "    weights = _get_weights(neigh_dist, self.weights)\n",
      "  File \"C:\\Users\\12619\\anaconda3\\lib\\site-packages\\sklearn\\neighbors\\_base.py\", line 111, in _get_weights\n",
      "    raise ValueError(\"weights not recognized: should be 'uniform', \"\n",
      "ValueError: weights not recognized: should be 'uniform', 'distance', or a callable function\n",
      "\n",
      "  warnings.warn(\n",
      "C:\\Users\\12619\\anaconda3\\lib\\site-packages\\sklearn\\model_selection\\_validation.py:683: UserWarning: Scoring failed. The score on this train-test partition for these parameters will be set to nan. Details: \n",
      "Traceback (most recent call last):\n",
      "  File \"C:\\Users\\12619\\anaconda3\\lib\\site-packages\\sklearn\\model_selection\\_validation.py\", line 674, in _score\n",
      "    scores = scorer(estimator, X_test, y_test)\n",
      "  File \"C:\\Users\\12619\\anaconda3\\lib\\site-packages\\sklearn\\metrics\\_scorer.py\", line 397, in _passthrough_scorer\n",
      "    return estimator.score(*args, **kwargs)\n",
      "  File \"C:\\Users\\12619\\anaconda3\\lib\\site-packages\\sklearn\\base.py\", line 500, in score\n",
      "    return accuracy_score(y, self.predict(X), sample_weight=sample_weight)\n",
      "  File \"C:\\Users\\12619\\anaconda3\\lib\\site-packages\\sklearn\\neighbors\\_classification.py\", line 206, in predict\n",
      "    weights = _get_weights(neigh_dist, self.weights)\n",
      "  File \"C:\\Users\\12619\\anaconda3\\lib\\site-packages\\sklearn\\neighbors\\_base.py\", line 111, in _get_weights\n",
      "    raise ValueError(\"weights not recognized: should be 'uniform', \"\n",
      "ValueError: weights not recognized: should be 'uniform', 'distance', or a callable function\n",
      "\n",
      "  warnings.warn(\n",
      "C:\\Users\\12619\\anaconda3\\lib\\site-packages\\sklearn\\model_selection\\_validation.py:683: UserWarning: Scoring failed. The score on this train-test partition for these parameters will be set to nan. Details: \n",
      "Traceback (most recent call last):\n",
      "  File \"C:\\Users\\12619\\anaconda3\\lib\\site-packages\\sklearn\\model_selection\\_validation.py\", line 674, in _score\n",
      "    scores = scorer(estimator, X_test, y_test)\n",
      "  File \"C:\\Users\\12619\\anaconda3\\lib\\site-packages\\sklearn\\metrics\\_scorer.py\", line 397, in _passthrough_scorer\n",
      "    return estimator.score(*args, **kwargs)\n",
      "  File \"C:\\Users\\12619\\anaconda3\\lib\\site-packages\\sklearn\\base.py\", line 500, in score\n",
      "    return accuracy_score(y, self.predict(X), sample_weight=sample_weight)\n",
      "  File \"C:\\Users\\12619\\anaconda3\\lib\\site-packages\\sklearn\\neighbors\\_classification.py\", line 206, in predict\n",
      "    weights = _get_weights(neigh_dist, self.weights)\n",
      "  File \"C:\\Users\\12619\\anaconda3\\lib\\site-packages\\sklearn\\neighbors\\_base.py\", line 111, in _get_weights\n",
      "    raise ValueError(\"weights not recognized: should be 'uniform', \"\n",
      "ValueError: weights not recognized: should be 'uniform', 'distance', or a callable function\n",
      "\n",
      "  warnings.warn(\n",
      "C:\\Users\\12619\\anaconda3\\lib\\site-packages\\sklearn\\model_selection\\_validation.py:683: UserWarning: Scoring failed. The score on this train-test partition for these parameters will be set to nan. Details: \n",
      "Traceback (most recent call last):\n",
      "  File \"C:\\Users\\12619\\anaconda3\\lib\\site-packages\\sklearn\\model_selection\\_validation.py\", line 674, in _score\n",
      "    scores = scorer(estimator, X_test, y_test)\n",
      "  File \"C:\\Users\\12619\\anaconda3\\lib\\site-packages\\sklearn\\metrics\\_scorer.py\", line 397, in _passthrough_scorer\n",
      "    return estimator.score(*args, **kwargs)\n",
      "  File \"C:\\Users\\12619\\anaconda3\\lib\\site-packages\\sklearn\\base.py\", line 500, in score\n",
      "    return accuracy_score(y, self.predict(X), sample_weight=sample_weight)\n",
      "  File \"C:\\Users\\12619\\anaconda3\\lib\\site-packages\\sklearn\\neighbors\\_classification.py\", line 206, in predict\n",
      "    weights = _get_weights(neigh_dist, self.weights)\n",
      "  File \"C:\\Users\\12619\\anaconda3\\lib\\site-packages\\sklearn\\neighbors\\_base.py\", line 111, in _get_weights\n",
      "    raise ValueError(\"weights not recognized: should be 'uniform', \"\n",
      "ValueError: weights not recognized: should be 'uniform', 'distance', or a callable function\n",
      "\n",
      "  warnings.warn(\n",
      "C:\\Users\\12619\\anaconda3\\lib\\site-packages\\sklearn\\model_selection\\_validation.py:683: UserWarning: Scoring failed. The score on this train-test partition for these parameters will be set to nan. Details: \n",
      "Traceback (most recent call last):\n",
      "  File \"C:\\Users\\12619\\anaconda3\\lib\\site-packages\\sklearn\\model_selection\\_validation.py\", line 674, in _score\n",
      "    scores = scorer(estimator, X_test, y_test)\n",
      "  File \"C:\\Users\\12619\\anaconda3\\lib\\site-packages\\sklearn\\metrics\\_scorer.py\", line 397, in _passthrough_scorer\n",
      "    return estimator.score(*args, **kwargs)\n",
      "  File \"C:\\Users\\12619\\anaconda3\\lib\\site-packages\\sklearn\\base.py\", line 500, in score\n",
      "    return accuracy_score(y, self.predict(X), sample_weight=sample_weight)\n",
      "  File \"C:\\Users\\12619\\anaconda3\\lib\\site-packages\\sklearn\\neighbors\\_classification.py\", line 206, in predict\n",
      "    weights = _get_weights(neigh_dist, self.weights)\n",
      "  File \"C:\\Users\\12619\\anaconda3\\lib\\site-packages\\sklearn\\neighbors\\_base.py\", line 111, in _get_weights\n",
      "    raise ValueError(\"weights not recognized: should be 'uniform', \"\n",
      "ValueError: weights not recognized: should be 'uniform', 'distance', or a callable function\n",
      "\n",
      "  warnings.warn(\n",
      "C:\\Users\\12619\\anaconda3\\lib\\site-packages\\sklearn\\model_selection\\_validation.py:683: UserWarning: Scoring failed. The score on this train-test partition for these parameters will be set to nan. Details: \n",
      "Traceback (most recent call last):\n",
      "  File \"C:\\Users\\12619\\anaconda3\\lib\\site-packages\\sklearn\\model_selection\\_validation.py\", line 674, in _score\n",
      "    scores = scorer(estimator, X_test, y_test)\n",
      "  File \"C:\\Users\\12619\\anaconda3\\lib\\site-packages\\sklearn\\metrics\\_scorer.py\", line 397, in _passthrough_scorer\n",
      "    return estimator.score(*args, **kwargs)\n",
      "  File \"C:\\Users\\12619\\anaconda3\\lib\\site-packages\\sklearn\\base.py\", line 500, in score\n",
      "    return accuracy_score(y, self.predict(X), sample_weight=sample_weight)\n",
      "  File \"C:\\Users\\12619\\anaconda3\\lib\\site-packages\\sklearn\\neighbors\\_classification.py\", line 206, in predict\n",
      "    weights = _get_weights(neigh_dist, self.weights)\n",
      "  File \"C:\\Users\\12619\\anaconda3\\lib\\site-packages\\sklearn\\neighbors\\_base.py\", line 111, in _get_weights\n",
      "    raise ValueError(\"weights not recognized: should be 'uniform', \"\n",
      "ValueError: weights not recognized: should be 'uniform', 'distance', or a callable function\n",
      "\n",
      "  warnings.warn(\n",
      "C:\\Users\\12619\\anaconda3\\lib\\site-packages\\sklearn\\model_selection\\_validation.py:683: UserWarning: Scoring failed. The score on this train-test partition for these parameters will be set to nan. Details: \n",
      "Traceback (most recent call last):\n",
      "  File \"C:\\Users\\12619\\anaconda3\\lib\\site-packages\\sklearn\\model_selection\\_validation.py\", line 674, in _score\n",
      "    scores = scorer(estimator, X_test, y_test)\n",
      "  File \"C:\\Users\\12619\\anaconda3\\lib\\site-packages\\sklearn\\metrics\\_scorer.py\", line 397, in _passthrough_scorer\n",
      "    return estimator.score(*args, **kwargs)\n",
      "  File \"C:\\Users\\12619\\anaconda3\\lib\\site-packages\\sklearn\\base.py\", line 500, in score\n",
      "    return accuracy_score(y, self.predict(X), sample_weight=sample_weight)\n",
      "  File \"C:\\Users\\12619\\anaconda3\\lib\\site-packages\\sklearn\\neighbors\\_classification.py\", line 206, in predict\n",
      "    weights = _get_weights(neigh_dist, self.weights)\n",
      "  File \"C:\\Users\\12619\\anaconda3\\lib\\site-packages\\sklearn\\neighbors\\_base.py\", line 111, in _get_weights\n",
      "    raise ValueError(\"weights not recognized: should be 'uniform', \"\n",
      "ValueError: weights not recognized: should be 'uniform', 'distance', or a callable function\n",
      "\n",
      "  warnings.warn(\n",
      "C:\\Users\\12619\\anaconda3\\lib\\site-packages\\sklearn\\model_selection\\_validation.py:683: UserWarning: Scoring failed. The score on this train-test partition for these parameters will be set to nan. Details: \n",
      "Traceback (most recent call last):\n",
      "  File \"C:\\Users\\12619\\anaconda3\\lib\\site-packages\\sklearn\\model_selection\\_validation.py\", line 674, in _score\n",
      "    scores = scorer(estimator, X_test, y_test)\n",
      "  File \"C:\\Users\\12619\\anaconda3\\lib\\site-packages\\sklearn\\metrics\\_scorer.py\", line 397, in _passthrough_scorer\n",
      "    return estimator.score(*args, **kwargs)\n",
      "  File \"C:\\Users\\12619\\anaconda3\\lib\\site-packages\\sklearn\\base.py\", line 500, in score\n",
      "    return accuracy_score(y, self.predict(X), sample_weight=sample_weight)\n",
      "  File \"C:\\Users\\12619\\anaconda3\\lib\\site-packages\\sklearn\\neighbors\\_classification.py\", line 206, in predict\n",
      "    weights = _get_weights(neigh_dist, self.weights)\n",
      "  File \"C:\\Users\\12619\\anaconda3\\lib\\site-packages\\sklearn\\neighbors\\_base.py\", line 111, in _get_weights\n",
      "    raise ValueError(\"weights not recognized: should be 'uniform', \"\n",
      "ValueError: weights not recognized: should be 'uniform', 'distance', or a callable function\n",
      "\n",
      "  warnings.warn(\n",
      "C:\\Users\\12619\\anaconda3\\lib\\site-packages\\sklearn\\model_selection\\_validation.py:683: UserWarning: Scoring failed. The score on this train-test partition for these parameters will be set to nan. Details: \n",
      "Traceback (most recent call last):\n",
      "  File \"C:\\Users\\12619\\anaconda3\\lib\\site-packages\\sklearn\\model_selection\\_validation.py\", line 674, in _score\n",
      "    scores = scorer(estimator, X_test, y_test)\n",
      "  File \"C:\\Users\\12619\\anaconda3\\lib\\site-packages\\sklearn\\metrics\\_scorer.py\", line 397, in _passthrough_scorer\n",
      "    return estimator.score(*args, **kwargs)\n",
      "  File \"C:\\Users\\12619\\anaconda3\\lib\\site-packages\\sklearn\\base.py\", line 500, in score\n",
      "    return accuracy_score(y, self.predict(X), sample_weight=sample_weight)\n",
      "  File \"C:\\Users\\12619\\anaconda3\\lib\\site-packages\\sklearn\\neighbors\\_classification.py\", line 206, in predict\n",
      "    weights = _get_weights(neigh_dist, self.weights)\n",
      "  File \"C:\\Users\\12619\\anaconda3\\lib\\site-packages\\sklearn\\neighbors\\_base.py\", line 111, in _get_weights\n",
      "    raise ValueError(\"weights not recognized: should be 'uniform', \"\n",
      "ValueError: weights not recognized: should be 'uniform', 'distance', or a callable function\n",
      "\n",
      "  warnings.warn(\n",
      "C:\\Users\\12619\\anaconda3\\lib\\site-packages\\sklearn\\model_selection\\_validation.py:683: UserWarning: Scoring failed. The score on this train-test partition for these parameters will be set to nan. Details: \n",
      "Traceback (most recent call last):\n",
      "  File \"C:\\Users\\12619\\anaconda3\\lib\\site-packages\\sklearn\\model_selection\\_validation.py\", line 674, in _score\n",
      "    scores = scorer(estimator, X_test, y_test)\n",
      "  File \"C:\\Users\\12619\\anaconda3\\lib\\site-packages\\sklearn\\metrics\\_scorer.py\", line 397, in _passthrough_scorer\n",
      "    return estimator.score(*args, **kwargs)\n",
      "  File \"C:\\Users\\12619\\anaconda3\\lib\\site-packages\\sklearn\\base.py\", line 500, in score\n",
      "    return accuracy_score(y, self.predict(X), sample_weight=sample_weight)\n",
      "  File \"C:\\Users\\12619\\anaconda3\\lib\\site-packages\\sklearn\\neighbors\\_classification.py\", line 206, in predict\n",
      "    weights = _get_weights(neigh_dist, self.weights)\n",
      "  File \"C:\\Users\\12619\\anaconda3\\lib\\site-packages\\sklearn\\neighbors\\_base.py\", line 111, in _get_weights\n",
      "    raise ValueError(\"weights not recognized: should be 'uniform', \"\n",
      "ValueError: weights not recognized: should be 'uniform', 'distance', or a callable function\n",
      "\n",
      "  warnings.warn(\n",
      "C:\\Users\\12619\\anaconda3\\lib\\site-packages\\sklearn\\model_selection\\_validation.py:683: UserWarning: Scoring failed. The score on this train-test partition for these parameters will be set to nan. Details: \n",
      "Traceback (most recent call last):\n",
      "  File \"C:\\Users\\12619\\anaconda3\\lib\\site-packages\\sklearn\\model_selection\\_validation.py\", line 674, in _score\n",
      "    scores = scorer(estimator, X_test, y_test)\n",
      "  File \"C:\\Users\\12619\\anaconda3\\lib\\site-packages\\sklearn\\metrics\\_scorer.py\", line 397, in _passthrough_scorer\n",
      "    return estimator.score(*args, **kwargs)\n",
      "  File \"C:\\Users\\12619\\anaconda3\\lib\\site-packages\\sklearn\\base.py\", line 500, in score\n",
      "    return accuracy_score(y, self.predict(X), sample_weight=sample_weight)\n",
      "  File \"C:\\Users\\12619\\anaconda3\\lib\\site-packages\\sklearn\\neighbors\\_classification.py\", line 206, in predict\n",
      "    weights = _get_weights(neigh_dist, self.weights)\n",
      "  File \"C:\\Users\\12619\\anaconda3\\lib\\site-packages\\sklearn\\neighbors\\_base.py\", line 111, in _get_weights\n",
      "    raise ValueError(\"weights not recognized: should be 'uniform', \"\n",
      "ValueError: weights not recognized: should be 'uniform', 'distance', or a callable function\n",
      "\n",
      "  warnings.warn(\n"
     ]
    },
    {
     "name": "stderr",
     "output_type": "stream",
     "text": [
      "C:\\Users\\12619\\anaconda3\\lib\\site-packages\\sklearn\\model_selection\\_validation.py:683: UserWarning: Scoring failed. The score on this train-test partition for these parameters will be set to nan. Details: \n",
      "Traceback (most recent call last):\n",
      "  File \"C:\\Users\\12619\\anaconda3\\lib\\site-packages\\sklearn\\model_selection\\_validation.py\", line 674, in _score\n",
      "    scores = scorer(estimator, X_test, y_test)\n",
      "  File \"C:\\Users\\12619\\anaconda3\\lib\\site-packages\\sklearn\\metrics\\_scorer.py\", line 397, in _passthrough_scorer\n",
      "    return estimator.score(*args, **kwargs)\n",
      "  File \"C:\\Users\\12619\\anaconda3\\lib\\site-packages\\sklearn\\base.py\", line 500, in score\n",
      "    return accuracy_score(y, self.predict(X), sample_weight=sample_weight)\n",
      "  File \"C:\\Users\\12619\\anaconda3\\lib\\site-packages\\sklearn\\neighbors\\_classification.py\", line 206, in predict\n",
      "    weights = _get_weights(neigh_dist, self.weights)\n",
      "  File \"C:\\Users\\12619\\anaconda3\\lib\\site-packages\\sklearn\\neighbors\\_base.py\", line 111, in _get_weights\n",
      "    raise ValueError(\"weights not recognized: should be 'uniform', \"\n",
      "ValueError: weights not recognized: should be 'uniform', 'distance', or a callable function\n",
      "\n",
      "  warnings.warn(\n",
      "C:\\Users\\12619\\anaconda3\\lib\\site-packages\\sklearn\\model_selection\\_validation.py:683: UserWarning: Scoring failed. The score on this train-test partition for these parameters will be set to nan. Details: \n",
      "Traceback (most recent call last):\n",
      "  File \"C:\\Users\\12619\\anaconda3\\lib\\site-packages\\sklearn\\model_selection\\_validation.py\", line 674, in _score\n",
      "    scores = scorer(estimator, X_test, y_test)\n",
      "  File \"C:\\Users\\12619\\anaconda3\\lib\\site-packages\\sklearn\\metrics\\_scorer.py\", line 397, in _passthrough_scorer\n",
      "    return estimator.score(*args, **kwargs)\n",
      "  File \"C:\\Users\\12619\\anaconda3\\lib\\site-packages\\sklearn\\base.py\", line 500, in score\n",
      "    return accuracy_score(y, self.predict(X), sample_weight=sample_weight)\n",
      "  File \"C:\\Users\\12619\\anaconda3\\lib\\site-packages\\sklearn\\neighbors\\_classification.py\", line 206, in predict\n",
      "    weights = _get_weights(neigh_dist, self.weights)\n",
      "  File \"C:\\Users\\12619\\anaconda3\\lib\\site-packages\\sklearn\\neighbors\\_base.py\", line 111, in _get_weights\n",
      "    raise ValueError(\"weights not recognized: should be 'uniform', \"\n",
      "ValueError: weights not recognized: should be 'uniform', 'distance', or a callable function\n",
      "\n",
      "  warnings.warn(\n",
      "C:\\Users\\12619\\anaconda3\\lib\\site-packages\\sklearn\\model_selection\\_validation.py:683: UserWarning: Scoring failed. The score on this train-test partition for these parameters will be set to nan. Details: \n",
      "Traceback (most recent call last):\n",
      "  File \"C:\\Users\\12619\\anaconda3\\lib\\site-packages\\sklearn\\model_selection\\_validation.py\", line 674, in _score\n",
      "    scores = scorer(estimator, X_test, y_test)\n",
      "  File \"C:\\Users\\12619\\anaconda3\\lib\\site-packages\\sklearn\\metrics\\_scorer.py\", line 397, in _passthrough_scorer\n",
      "    return estimator.score(*args, **kwargs)\n",
      "  File \"C:\\Users\\12619\\anaconda3\\lib\\site-packages\\sklearn\\base.py\", line 500, in score\n",
      "    return accuracy_score(y, self.predict(X), sample_weight=sample_weight)\n",
      "  File \"C:\\Users\\12619\\anaconda3\\lib\\site-packages\\sklearn\\neighbors\\_classification.py\", line 206, in predict\n",
      "    weights = _get_weights(neigh_dist, self.weights)\n",
      "  File \"C:\\Users\\12619\\anaconda3\\lib\\site-packages\\sklearn\\neighbors\\_base.py\", line 111, in _get_weights\n",
      "    raise ValueError(\"weights not recognized: should be 'uniform', \"\n",
      "ValueError: weights not recognized: should be 'uniform', 'distance', or a callable function\n",
      "\n",
      "  warnings.warn(\n",
      "C:\\Users\\12619\\anaconda3\\lib\\site-packages\\sklearn\\model_selection\\_validation.py:683: UserWarning: Scoring failed. The score on this train-test partition for these parameters will be set to nan. Details: \n",
      "Traceback (most recent call last):\n",
      "  File \"C:\\Users\\12619\\anaconda3\\lib\\site-packages\\sklearn\\model_selection\\_validation.py\", line 674, in _score\n",
      "    scores = scorer(estimator, X_test, y_test)\n",
      "  File \"C:\\Users\\12619\\anaconda3\\lib\\site-packages\\sklearn\\metrics\\_scorer.py\", line 397, in _passthrough_scorer\n",
      "    return estimator.score(*args, **kwargs)\n",
      "  File \"C:\\Users\\12619\\anaconda3\\lib\\site-packages\\sklearn\\base.py\", line 500, in score\n",
      "    return accuracy_score(y, self.predict(X), sample_weight=sample_weight)\n",
      "  File \"C:\\Users\\12619\\anaconda3\\lib\\site-packages\\sklearn\\neighbors\\_classification.py\", line 206, in predict\n",
      "    weights = _get_weights(neigh_dist, self.weights)\n",
      "  File \"C:\\Users\\12619\\anaconda3\\lib\\site-packages\\sklearn\\neighbors\\_base.py\", line 111, in _get_weights\n",
      "    raise ValueError(\"weights not recognized: should be 'uniform', \"\n",
      "ValueError: weights not recognized: should be 'uniform', 'distance', or a callable function\n",
      "\n",
      "  warnings.warn(\n",
      "C:\\Users\\12619\\anaconda3\\lib\\site-packages\\sklearn\\model_selection\\_validation.py:683: UserWarning: Scoring failed. The score on this train-test partition for these parameters will be set to nan. Details: \n",
      "Traceback (most recent call last):\n",
      "  File \"C:\\Users\\12619\\anaconda3\\lib\\site-packages\\sklearn\\model_selection\\_validation.py\", line 674, in _score\n",
      "    scores = scorer(estimator, X_test, y_test)\n",
      "  File \"C:\\Users\\12619\\anaconda3\\lib\\site-packages\\sklearn\\metrics\\_scorer.py\", line 397, in _passthrough_scorer\n",
      "    return estimator.score(*args, **kwargs)\n",
      "  File \"C:\\Users\\12619\\anaconda3\\lib\\site-packages\\sklearn\\base.py\", line 500, in score\n",
      "    return accuracy_score(y, self.predict(X), sample_weight=sample_weight)\n",
      "  File \"C:\\Users\\12619\\anaconda3\\lib\\site-packages\\sklearn\\neighbors\\_classification.py\", line 206, in predict\n",
      "    weights = _get_weights(neigh_dist, self.weights)\n",
      "  File \"C:\\Users\\12619\\anaconda3\\lib\\site-packages\\sklearn\\neighbors\\_base.py\", line 111, in _get_weights\n",
      "    raise ValueError(\"weights not recognized: should be 'uniform', \"\n",
      "ValueError: weights not recognized: should be 'uniform', 'distance', or a callable function\n",
      "\n",
      "  warnings.warn(\n",
      "C:\\Users\\12619\\anaconda3\\lib\\site-packages\\sklearn\\model_selection\\_search.py:918: UserWarning: One or more of the test scores are non-finite: [       nan 0.55584161        nan 0.55765935        nan 0.57822309\n",
      "        nan 0.57556054        nan 0.5827114         nan 0.58715967\n",
      "        nan 0.57642537        nan 0.57554052        nan 0.58983024\n",
      "        nan 0.59877482        nan 0.5800048         nan 0.58267937\n",
      "        nan 0.58714766]\n",
      "  warnings.warn(\n"
     ]
    },
    {
     "data": {
      "text/plain": [
       "GridSearchCV(estimator=KNeighborsClassifier(),\n",
       "             param_grid={'n_neighbors': [2, 3, 4, 5, 6, 7, 8, 9, 10, 11, 12, 13,\n",
       "                                         14],\n",
       "                         'weights': ['disdance', 'uniform']})"
      ]
     },
     "execution_count": 82,
     "metadata": {},
     "output_type": "execute_result"
    }
   ],
   "source": [
    "knn_params = {'n_neighbors':list(range(2,15,1)),'weights': ['disdance', 'uniform']}\n",
    "grid_knn = GridSearchCV(KNeighborsClassifier(), knn_params)\n",
    "grid_knn.fit(x_train, y_train)"
   ]
  },
  {
   "cell_type": "code",
   "execution_count": 83,
   "id": "0e563819",
   "metadata": {},
   "outputs": [
    {
     "name": "stdout",
     "output_type": "stream",
     "text": [
      "Best Parameters for KNN:  KNeighborsClassifier(n_neighbors=11)\n",
      "Best Score for KNN:  0.5987748238308777\n",
      "------------------------------------------\n"
     ]
    }
   ],
   "source": [
    "knn = grid_knn.best_estimator_\n",
    "print(\"Best Parameters for KNN: \", grid_knn.best_estimator_)\n",
    "print(\"Best Score for KNN: \", grid_knn.best_score_)\n",
    "print(\"------------------------------------------\")"
   ]
  },
  {
   "cell_type": "code",
   "execution_count": 58,
   "id": "8c36846b",
   "metadata": {},
   "outputs": [
    {
     "name": "stdout",
     "output_type": "stream",
     "text": [
      "Mean Accuracy of Cross Validation: % 59.88\n",
      "Std of Accuracy of Cross Validation: % 3\n",
      "------------------------------------------\n"
     ]
    },
    {
     "name": "stderr",
     "output_type": "stream",
     "text": [
      "C:\\Users\\12619\\anaconda3\\lib\\site-packages\\sklearn\\model_selection\\_split.py:666: UserWarning: The least populated class in y has only 9 members, which is less than n_splits=10.\n",
      "  warnings.warn((\"The least populated class in y has only %d\"\n"
     ]
    }
   ],
   "source": [
    "scores = cross_val_score(knn, x_train, y_train, cv=10)\n",
    "print(\"Mean Accuracy of Cross Validation: %\", round(scores.mean()*100,2))\n",
    "print(\"Std of Accuracy of Cross Validation: %\", round(scores.std()*100))\n",
    "print(\"------------------------------------------\")"
   ]
  },
  {
   "cell_type": "code",
   "execution_count": 59,
   "id": "029a9109",
   "metadata": {},
   "outputs": [
    {
     "name": "stdout",
     "output_type": "stream",
     "text": [
      "Accuracy of KNN: 56.458333333333336\n",
      "Confusion matrix of KNN:\n",
      " [[  0   0   0   1   0   0]\n",
      " [  0   0   7  10   0   0]\n",
      " [  0   0 131  61   3   0]\n",
      " [  0   0  67 119  14   0]\n",
      " [  0   0   5  35  21   0]\n",
      " [  0   0   1   2   3   0]]\n",
      "==========================================\n"
     ]
    }
   ],
   "source": [
    "#Predict the test data as selected classifier\n",
    "clf_prediction = knn.predict(x_test)\n",
    "clf1_accuracy = sum(y_test == clf_prediction)/len(y_test)\n",
    "print(\"Accuracy of KNN:\",clf1_accuracy*100)\n",
    "\n",
    "#print confusion matrix and accuracy score before best parameters\n",
    "clf1_conf_matrix = confusion_matrix(y_test, clf_prediction)\n",
    "print(\"Confusion matrix of KNN:\\n\", clf1_conf_matrix)\n",
    "print(\"==========================================\")"
   ]
  },
  {
   "cell_type": "code",
   "execution_count": 85,
   "id": "1f92447d",
   "metadata": {},
   "outputs": [
    {
     "name": "stdout",
     "output_type": "stream",
     "text": [
      "When n_neighbors=11, weights = uniform, train time = 0.008005380630493164\n"
     ]
    }
   ],
   "source": [
    "start = time.time()\n",
    "knn_grid = KNeighborsClassifier(n_neighbors=11,weights='uniform').fit(x_train,y_train)\n",
    "end = time.time()\n",
    "time_train = end-start\n",
    "print('When n_neighbors=11, weights = uniform, train time =',time_train)"
   ]
  },
  {
   "cell_type": "code",
   "execution_count": 66,
   "id": "12fd1076",
   "metadata": {},
   "outputs": [
    {
     "name": "stdout",
     "output_type": "stream",
     "text": [
      "When n_neighbors=11, weights = uniform, test time = 0.03200411796569824\n"
     ]
    }
   ],
   "source": [
    "start = time.time()\n",
    "knn_grid_pred = knn_grid.predict(x_test)\n",
    "end = time.time()\n",
    "time_test = end-start\n",
    "print('When n_neighbors=11, weights = uniform, test time =',time_test)"
   ]
  },
  {
   "cell_type": "code",
   "execution_count": 67,
   "id": "1a50c490",
   "metadata": {},
   "outputs": [
    {
     "name": "stdout",
     "output_type": "stream",
     "text": [
      "training score =  0.6595174262734584 test score =  0.5645833333333333\n"
     ]
    }
   ],
   "source": [
    "score_train = grid_knn.score(x_train,y_train)\n",
    "score_test = grid_knn.score(x_test,y_test)\n",
    "print('training score = ',score_train,'test score = ',score_test)"
   ]
  },
  {
   "cell_type": "code",
   "execution_count": 86,
   "id": "f69f1ea3",
   "metadata": {},
   "outputs": [
    {
     "name": "stderr",
     "output_type": "stream",
     "text": [
      "C:\\Users\\12619\\anaconda3\\lib\\site-packages\\sklearn\\model_selection\\_validation.py:610: FitFailedWarning: Estimator fit failed. The score on this train-test partition for these parameters will be set to nan. Details: \n",
      "Traceback (most recent call last):\n",
      "  File \"C:\\Users\\12619\\anaconda3\\lib\\site-packages\\sklearn\\model_selection\\_validation.py\", line 593, in _fit_and_score\n",
      "    estimator.fit(X_train, y_train, **fit_params)\n",
      "  File \"C:\\Users\\12619\\anaconda3\\lib\\site-packages\\sklearn\\neighbors\\_classification.py\", line 179, in fit\n",
      "    return self._fit(X, y)\n",
      "  File \"C:\\Users\\12619\\anaconda3\\lib\\site-packages\\sklearn\\neighbors\\_base.py\", line 514, in _fit\n",
      "    raise ValueError(\n",
      "ValueError: Expected n_neighbors > 0. Got 0\n",
      "\n",
      "  warnings.warn(\"Estimator fit failed. The score on this train-test\"\n",
      "C:\\Users\\12619\\anaconda3\\lib\\site-packages\\sklearn\\model_selection\\_validation.py:610: FitFailedWarning: Estimator fit failed. The score on this train-test partition for these parameters will be set to nan. Details: \n",
      "Traceback (most recent call last):\n",
      "  File \"C:\\Users\\12619\\anaconda3\\lib\\site-packages\\sklearn\\model_selection\\_validation.py\", line 593, in _fit_and_score\n",
      "    estimator.fit(X_train, y_train, **fit_params)\n",
      "  File \"C:\\Users\\12619\\anaconda3\\lib\\site-packages\\sklearn\\neighbors\\_classification.py\", line 179, in fit\n",
      "    return self._fit(X, y)\n",
      "  File \"C:\\Users\\12619\\anaconda3\\lib\\site-packages\\sklearn\\neighbors\\_base.py\", line 514, in _fit\n",
      "    raise ValueError(\n",
      "ValueError: Expected n_neighbors > 0. Got 0\n",
      "\n",
      "  warnings.warn(\"Estimator fit failed. The score on this train-test\"\n",
      "C:\\Users\\12619\\anaconda3\\lib\\site-packages\\sklearn\\model_selection\\_validation.py:610: FitFailedWarning: Estimator fit failed. The score on this train-test partition for these parameters will be set to nan. Details: \n",
      "Traceback (most recent call last):\n",
      "  File \"C:\\Users\\12619\\anaconda3\\lib\\site-packages\\sklearn\\model_selection\\_validation.py\", line 593, in _fit_and_score\n",
      "    estimator.fit(X_train, y_train, **fit_params)\n",
      "  File \"C:\\Users\\12619\\anaconda3\\lib\\site-packages\\sklearn\\neighbors\\_classification.py\", line 179, in fit\n",
      "    return self._fit(X, y)\n",
      "  File \"C:\\Users\\12619\\anaconda3\\lib\\site-packages\\sklearn\\neighbors\\_base.py\", line 514, in _fit\n",
      "    raise ValueError(\n",
      "ValueError: Expected n_neighbors > 0. Got 0\n",
      "\n",
      "  warnings.warn(\"Estimator fit failed. The score on this train-test\"\n",
      "C:\\Users\\12619\\anaconda3\\lib\\site-packages\\sklearn\\model_selection\\_validation.py:610: FitFailedWarning: Estimator fit failed. The score on this train-test partition for these parameters will be set to nan. Details: \n",
      "Traceback (most recent call last):\n",
      "  File \"C:\\Users\\12619\\anaconda3\\lib\\site-packages\\sklearn\\model_selection\\_validation.py\", line 593, in _fit_and_score\n",
      "    estimator.fit(X_train, y_train, **fit_params)\n",
      "  File \"C:\\Users\\12619\\anaconda3\\lib\\site-packages\\sklearn\\neighbors\\_classification.py\", line 179, in fit\n",
      "    return self._fit(X, y)\n",
      "  File \"C:\\Users\\12619\\anaconda3\\lib\\site-packages\\sklearn\\neighbors\\_base.py\", line 514, in _fit\n",
      "    raise ValueError(\n",
      "ValueError: Expected n_neighbors > 0. Got 0\n",
      "\n",
      "  warnings.warn(\"Estimator fit failed. The score on this train-test\"\n",
      "C:\\Users\\12619\\anaconda3\\lib\\site-packages\\sklearn\\model_selection\\_validation.py:610: FitFailedWarning: Estimator fit failed. The score on this train-test partition for these parameters will be set to nan. Details: \n",
      "Traceback (most recent call last):\n",
      "  File \"C:\\Users\\12619\\anaconda3\\lib\\site-packages\\sklearn\\model_selection\\_validation.py\", line 593, in _fit_and_score\n",
      "    estimator.fit(X_train, y_train, **fit_params)\n",
      "  File \"C:\\Users\\12619\\anaconda3\\lib\\site-packages\\sklearn\\neighbors\\_classification.py\", line 179, in fit\n",
      "    return self._fit(X, y)\n",
      "  File \"C:\\Users\\12619\\anaconda3\\lib\\site-packages\\sklearn\\neighbors\\_base.py\", line 514, in _fit\n",
      "    raise ValueError(\n",
      "ValueError: Expected n_neighbors > 0. Got 0\n",
      "\n",
      "  warnings.warn(\"Estimator fit failed. The score on this train-test\"\n",
      "C:\\Users\\12619\\anaconda3\\lib\\site-packages\\sklearn\\model_selection\\_validation.py:610: FitFailedWarning: Estimator fit failed. The score on this train-test partition for these parameters will be set to nan. Details: \n",
      "Traceback (most recent call last):\n",
      "  File \"C:\\Users\\12619\\anaconda3\\lib\\site-packages\\sklearn\\model_selection\\_validation.py\", line 593, in _fit_and_score\n",
      "    estimator.fit(X_train, y_train, **fit_params)\n",
      "  File \"C:\\Users\\12619\\anaconda3\\lib\\site-packages\\sklearn\\neighbors\\_classification.py\", line 179, in fit\n",
      "    return self._fit(X, y)\n",
      "  File \"C:\\Users\\12619\\anaconda3\\lib\\site-packages\\sklearn\\neighbors\\_base.py\", line 514, in _fit\n",
      "    raise ValueError(\n",
      "ValueError: Expected n_neighbors > 0. Got 0\n",
      "\n",
      "  warnings.warn(\"Estimator fit failed. The score on this train-test\"\n",
      "C:\\Users\\12619\\anaconda3\\lib\\site-packages\\sklearn\\model_selection\\_validation.py:610: FitFailedWarning: Estimator fit failed. The score on this train-test partition for these parameters will be set to nan. Details: \n",
      "Traceback (most recent call last):\n",
      "  File \"C:\\Users\\12619\\anaconda3\\lib\\site-packages\\sklearn\\model_selection\\_validation.py\", line 593, in _fit_and_score\n",
      "    estimator.fit(X_train, y_train, **fit_params)\n",
      "  File \"C:\\Users\\12619\\anaconda3\\lib\\site-packages\\sklearn\\neighbors\\_classification.py\", line 179, in fit\n",
      "    return self._fit(X, y)\n",
      "  File \"C:\\Users\\12619\\anaconda3\\lib\\site-packages\\sklearn\\neighbors\\_base.py\", line 514, in _fit\n",
      "    raise ValueError(\n",
      "ValueError: Expected n_neighbors > 0. Got 0\n",
      "\n",
      "  warnings.warn(\"Estimator fit failed. The score on this train-test\"\n",
      "C:\\Users\\12619\\anaconda3\\lib\\site-packages\\sklearn\\model_selection\\_validation.py:610: FitFailedWarning: Estimator fit failed. The score on this train-test partition for these parameters will be set to nan. Details: \n",
      "Traceback (most recent call last):\n",
      "  File \"C:\\Users\\12619\\anaconda3\\lib\\site-packages\\sklearn\\model_selection\\_validation.py\", line 593, in _fit_and_score\n",
      "    estimator.fit(X_train, y_train, **fit_params)\n",
      "  File \"C:\\Users\\12619\\anaconda3\\lib\\site-packages\\sklearn\\neighbors\\_classification.py\", line 179, in fit\n",
      "    return self._fit(X, y)\n",
      "  File \"C:\\Users\\12619\\anaconda3\\lib\\site-packages\\sklearn\\neighbors\\_base.py\", line 514, in _fit\n",
      "    raise ValueError(\n",
      "ValueError: Expected n_neighbors > 0. Got 0\n",
      "\n",
      "  warnings.warn(\"Estimator fit failed. The score on this train-test\"\n",
      "C:\\Users\\12619\\anaconda3\\lib\\site-packages\\sklearn\\model_selection\\_validation.py:610: FitFailedWarning: Estimator fit failed. The score on this train-test partition for these parameters will be set to nan. Details: \n",
      "Traceback (most recent call last):\n",
      "  File \"C:\\Users\\12619\\anaconda3\\lib\\site-packages\\sklearn\\model_selection\\_validation.py\", line 593, in _fit_and_score\n",
      "    estimator.fit(X_train, y_train, **fit_params)\n",
      "  File \"C:\\Users\\12619\\anaconda3\\lib\\site-packages\\sklearn\\neighbors\\_classification.py\", line 179, in fit\n",
      "    return self._fit(X, y)\n",
      "  File \"C:\\Users\\12619\\anaconda3\\lib\\site-packages\\sklearn\\neighbors\\_base.py\", line 514, in _fit\n",
      "    raise ValueError(\n",
      "ValueError: Expected n_neighbors > 0. Got 0\n",
      "\n",
      "  warnings.warn(\"Estimator fit failed. The score on this train-test\"\n",
      "C:\\Users\\12619\\anaconda3\\lib\\site-packages\\sklearn\\model_selection\\_validation.py:610: FitFailedWarning: Estimator fit failed. The score on this train-test partition for these parameters will be set to nan. Details: \n",
      "Traceback (most recent call last):\n",
      "  File \"C:\\Users\\12619\\anaconda3\\lib\\site-packages\\sklearn\\model_selection\\_validation.py\", line 593, in _fit_and_score\n",
      "    estimator.fit(X_train, y_train, **fit_params)\n",
      "  File \"C:\\Users\\12619\\anaconda3\\lib\\site-packages\\sklearn\\neighbors\\_classification.py\", line 179, in fit\n",
      "    return self._fit(X, y)\n",
      "  File \"C:\\Users\\12619\\anaconda3\\lib\\site-packages\\sklearn\\neighbors\\_base.py\", line 514, in _fit\n",
      "    raise ValueError(\n",
      "ValueError: Expected n_neighbors > 0. Got 0\n",
      "\n",
      "  warnings.warn(\"Estimator fit failed. The score on this train-test\"\n"
     ]
    },
    {
     "data": {
      "image/png": "[encoded data removed]",
      "text/plain": [
       "<Figure size 504x360 with 1 Axes>"
      ]
     },
     "metadata": {
      "needs_background": "light"
     },
     "output_type": "display_data"
    }
   ],
   "source": [
    "n_neighbors = np.arange(0,15,1)\n",
    "\n",
    "# Calculate the training and testing scores\n",
    "train_scores, test_scores = validation_curve(knn_grid, X, y, \\\n",
    "    param_name = \"n_neighbors\", param_range = n_neighbors, cv = cv)\n",
    "\n",
    "    # Find the mean and standard deviation for smoothing\n",
    "train_mean = np.mean(train_scores, axis=1)\n",
    "train_std = np.std(train_scores, axis=1)\n",
    "test_mean = np.mean(test_scores, axis=1)\n",
    "test_std = np.std(test_scores, axis=1)\n",
    "\n",
    "    # Plot the validation curve\n",
    "plt.figure(figsize=(7, 5))\n",
    "plt.title('Validation Curve with KNN')\n",
    "plt.plot(n_neighbors, train_mean, 'o-', color = 'r', label = 'Training Score')\n",
    "plt.plot(n_neighbors, test_mean, 'o-', color = 'g', label = 'Validation Score')\n",
    "plt.fill_between(n_neighbors, train_mean - train_std, \\\n",
    "    train_mean + train_std, alpha = 0.15, color = 'r')\n",
    "plt.fill_between(n_neighbors, test_mean - test_std, \\\n",
    "    test_mean + test_std, alpha = 0.15, color = 'g')\n",
    "    \n",
    " # Visual aesthetics\n",
    "plt.legend(loc = 'best')\n",
    "plt.xlabel('The number of neighbors')\n",
    "plt.ylabel('Score')\n",
    "plt.ylim([0.4,1.2])\n",
    "plt.show()"
   ]
  },
  {
   "cell_type": "code",
   "execution_count": 74,
   "id": "31395e90",
   "metadata": {},
   "outputs": [
    {
     "data": {
      "text/plain": [
       "Text(0.5, 1.0, 'Scalability of the KNN model')"
      ]
     },
     "execution_count": 74,
     "metadata": {},
     "output_type": "execute_result"
    },
    {
     "data": {
      "image/png": "[encoded data removed]",
      "text/plain": [
       "<Figure size 432x288 with 1 Axes>"
      ]
     },
     "metadata": {
      "needs_background": "light"
     },
     "output_type": "display_data"
    }
   ],
   "source": [
    "train_sizes, train_scores, test_scores, fit_times, _ = \\\n",
    "        learning_curve(knn_grid, X_t, y, cv=cv, \n",
    "                                        n_jobs=4, train_sizes=np.linspace(.1, 1.0, 5),return_times=True)\n",
    "\n",
    "fit_times_mean = np.mean(fit_times,axis = 1)\n",
    "fit_times_std = np.std(fit_times,axis = 1)\n",
    "train_scores_mean = np.mean(train_scores, axis=1)\n",
    "train_scores_std = np.std(train_scores, axis=1)\n",
    "test_scores_mean = np.mean(test_scores, axis=1)\n",
    "test_scores_std = np.std(test_scores, axis=1)\n",
    "\n",
    "plt.grid()\n",
    "plt.plot(train_sizes, fit_times_mean, 'o-')\n",
    "plt.fill_between(train_sizes, fit_times_mean - fit_times_std,\n",
    "                         fit_times_mean + fit_times_std, alpha=0.1)\n",
    "plt.xlabel(\"Training examples\")\n",
    "plt.ylabel(\"Fit_times\")\n",
    "plt.title(\"Scalability of the KNN model\")"
   ]
  },
  {
   "cell_type": "code",
   "execution_count": 75,
   "id": "7df6e073",
   "metadata": {},
   "outputs": [
    {
     "data": {
      "text/plain": [
       "Text(0.5, 1.0, 'Learning curve of KNN')"
      ]
     },
     "execution_count": 75,
     "metadata": {},
     "output_type": "execute_result"
    },
    {
     "data": {
      "image/png": "[encoded data removed]",
      "text/plain": [
       "<Figure size 432x288 with 1 Axes>"
      ]
     },
     "metadata": {
      "needs_background": "light"
     },
     "output_type": "display_data"
    }
   ],
   "source": [
    "plt.grid()\n",
    "\n",
    "plt.fill_between(train_sizes, train_scores_mean - train_scores_std,\n",
    "                     train_scores_mean + train_scores_std, alpha=0.1,\n",
    "                     color=\"r\")\n",
    "plt.fill_between(train_sizes, test_scores_mean - test_scores_std,\n",
    "                     test_scores_mean + test_scores_std, alpha=0.1, color=\"g\")\n",
    "plt.plot(train_sizes, train_scores_mean, 'o-', color=\"r\",\n",
    "             label=\"Training score\")\n",
    "plt.plot(train_sizes, test_scores_mean, 'o-', color=\"g\",\n",
    "             label=\"Cross-validation score\")\n",
    "plt.legend(loc=\"best\")\n",
    "plt.xlabel(\"Training examples\")\n",
    "plt.ylabel(\"Score\")\n",
    "plt.title(\"Learning curve of KNN\")"
   ]
  },
  {
   "cell_type": "code",
   "execution_count": null,
   "id": "66db10a5",
   "metadata": {},
   "outputs": [],
   "source": []
  },
  {
   "cell_type": "code",
   "execution_count": null,
   "id": "fad2c9ea",
   "metadata": {},
   "outputs": [],
   "source": []
  }
 ],
 "metadata": {
  "kernelspec": {
   "display_name": "Python 3",
   "language": "python",
   "name": "python3"
  },
  "language_info": {
   "codemirror_mode": {
    "name": "ipython",
    "version": 3
   },
   "file_extension": ".py",
   "mimetype": "text/x-python",
   "name": "python",
   "nbconvert_exporter": "python",
   "pygments_lexer": "ipython3",
   "version": "3.8.8"
  }
 },
 "nbformat": 4,
 "nbformat_minor": 5
}
